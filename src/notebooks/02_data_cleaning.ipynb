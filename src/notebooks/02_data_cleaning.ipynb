{
  "nbformat": 4,
  "nbformat_minor": 0,
  "metadata": {
    "colab": {
      "name": "02_data_cleaning-new-new.ipynb",
      "provenance": [],
      "collapsed_sections": [
        "vJ8FsAPulGky",
        "FXwCG7CylAI0",
        "fmnCrzB6lxFu",
        "GfEsR6VYl1o5",
        "0kT-VaS066u0",
        "QhlupnBqtaxu",
        "G8gHdALg9Dq6",
        "3dZJEkt9zKY8",
        "ltgkRg2yrUJn"
      ]
    },
    "kernelspec": {
      "name": "python3",
      "display_name": "Python 3"
    },
    "language_info": {
      "name": "python"
    }
  },
  "cells": [
    {
      "cell_type": "markdown",
      "source": [
        "# Setup"
      ],
      "metadata": {
        "id": "N9bg5wtnrqtO"
      }
    },
    {
      "cell_type": "markdown",
      "source": [
        "💡 = some conclusion is drawn from data<br/>\n",
        "⚡ = some decision is made "
      ],
      "metadata": {
        "id": "DsrrcNDMxd0p"
      }
    },
    {
      "cell_type": "markdown",
      "source": [
        "TO DO:<br/>\n",
        "1. Characters: @, # ... (in progress...)\n",
        "2. Spell Checks\n",
        "3. word count per review/title histogram (eda)\n",
        "4. topic modeling (eda)\n",
        "5. NER(eda)\n",
        "6. remove last sentence if it is not finished?"
      ],
      "metadata": {
        "id": "27ASes5ts1Om"
      }
    },
    {
      "cell_type": "code",
      "execution_count": null,
      "metadata": {
        "id": "HqRjFOLWY_u2"
      },
      "outputs": [],
      "source": [
        "import pandas as pd\n",
        "import numpy as np\n",
        "import matplotlib.pyplot as plt\n",
        "from collections import Counter\n",
        "from bs4 import BeautifulSoup\n",
        "from copy import deepcopy\n",
        "import re\n",
        "import regex\n",
        "\n",
        "from google.colab import data_table"
      ]
    },
    {
      "cell_type": "code",
      "source": [
        "df = pd.read_csv('train.csv')\n",
        "df.head(5)"
      ],
      "metadata": {
        "colab": {
          "base_uri": "https://localhost:8080/",
          "height": 354
        },
        "id": "syAObuqJZ8pa",
        "outputId": "dfaa4c54-ce07-4ed0-c012-b722c1164eb4"
      },
      "execution_count": null,
      "outputs": [
        {
          "output_type": "execute_result",
          "data": {
            "text/html": [
              "\n",
              "  <div id=\"df-80622b4e-7e60-4724-adf7-a164cb953fad\">\n",
              "    <div class=\"colab-df-container\">\n",
              "      <div>\n",
              "<style scoped>\n",
              "    .dataframe tbody tr th:only-of-type {\n",
              "        vertical-align: middle;\n",
              "    }\n",
              "\n",
              "    .dataframe tbody tr th {\n",
              "        vertical-align: top;\n",
              "    }\n",
              "\n",
              "    .dataframe thead th {\n",
              "        text-align: right;\n",
              "    }\n",
              "</style>\n",
              "<table border=\"1\" class=\"dataframe\">\n",
              "  <thead>\n",
              "    <tr style=\"text-align: right;\">\n",
              "      <th></th>\n",
              "      <th>Review ID</th>\n",
              "      <th>Clothing ID</th>\n",
              "      <th>Age</th>\n",
              "      <th>Title</th>\n",
              "      <th>Review Text</th>\n",
              "      <th>Rating</th>\n",
              "      <th>Recommended IND</th>\n",
              "      <th>Positive Feedback Count</th>\n",
              "      <th>Division Name</th>\n",
              "      <th>Department Name</th>\n",
              "      <th>Class Name</th>\n",
              "    </tr>\n",
              "  </thead>\n",
              "  <tbody>\n",
              "    <tr>\n",
              "      <th>0</th>\n",
              "      <td>1214</td>\n",
              "      <td>1094</td>\n",
              "      <td>52</td>\n",
              "      <td>Great dress but not in green</td>\n",
              "      <td>Beautiful dress. good quality. tts. i'm 5 feet...</td>\n",
              "      <td>3</td>\n",
              "      <td>1</td>\n",
              "      <td>1</td>\n",
              "      <td>General</td>\n",
              "      <td>Dresses</td>\n",
              "      <td>Dresses</td>\n",
              "    </tr>\n",
              "    <tr>\n",
              "      <th>1</th>\n",
              "      <td>1917</td>\n",
              "      <td>1066</td>\n",
              "      <td>72</td>\n",
              "      <td>Love! but more tall options, please!</td>\n",
              "      <td>These pants are so great. i am 5'10 and the ta...</td>\n",
              "      <td>5</td>\n",
              "      <td>1</td>\n",
              "      <td>11</td>\n",
              "      <td>General Petite</td>\n",
              "      <td>Bottoms</td>\n",
              "      <td>Pants</td>\n",
              "    </tr>\n",
              "    <tr>\n",
              "      <th>2</th>\n",
              "      <td>18277</td>\n",
              "      <td>854</td>\n",
              "      <td>39</td>\n",
              "      <td>Love it!</td>\n",
              "      <td>I bought a size s in the navy, and m in the ne...</td>\n",
              "      <td>5</td>\n",
              "      <td>1</td>\n",
              "      <td>0</td>\n",
              "      <td>General</td>\n",
              "      <td>Tops</td>\n",
              "      <td>Knits</td>\n",
              "    </tr>\n",
              "    <tr>\n",
              "      <th>3</th>\n",
              "      <td>10757</td>\n",
              "      <td>864</td>\n",
              "      <td>34</td>\n",
              "      <td>Runs big but cute buy on sale</td>\n",
              "      <td>Loved this shirt but it runs pretty big. i'm n...</td>\n",
              "      <td>3</td>\n",
              "      <td>1</td>\n",
              "      <td>1</td>\n",
              "      <td>General Petite</td>\n",
              "      <td>Tops</td>\n",
              "      <td>Knits</td>\n",
              "    </tr>\n",
              "    <tr>\n",
              "      <th>4</th>\n",
              "      <td>10782</td>\n",
              "      <td>1110</td>\n",
              "      <td>43</td>\n",
              "      <td>Looks better than the picture!</td>\n",
              "      <td>I love this dress! i was trying on some dresse...</td>\n",
              "      <td>5</td>\n",
              "      <td>1</td>\n",
              "      <td>0</td>\n",
              "      <td>General Petite</td>\n",
              "      <td>Dresses</td>\n",
              "      <td>Dresses</td>\n",
              "    </tr>\n",
              "  </tbody>\n",
              "</table>\n",
              "</div>\n",
              "      <button class=\"colab-df-convert\" onclick=\"convertToInteractive('df-80622b4e-7e60-4724-adf7-a164cb953fad')\"\n",
              "              title=\"Convert this dataframe to an interactive table.\"\n",
              "              style=\"display:none;\">\n",
              "        \n",
              "  <svg xmlns=\"http://www.w3.org/2000/svg\" height=\"24px\"viewBox=\"0 0 24 24\"\n",
              "       width=\"24px\">\n",
              "    <path d=\"M0 0h24v24H0V0z\" fill=\"none\"/>\n",
              "    <path d=\"M18.56 5.44l.94 2.06.94-2.06 2.06-.94-2.06-.94-.94-2.06-.94 2.06-2.06.94zm-11 1L8.5 8.5l.94-2.06 2.06-.94-2.06-.94L8.5 2.5l-.94 2.06-2.06.94zm10 10l.94 2.06.94-2.06 2.06-.94-2.06-.94-.94-2.06-.94 2.06-2.06.94z\"/><path d=\"M17.41 7.96l-1.37-1.37c-.4-.4-.92-.59-1.43-.59-.52 0-1.04.2-1.43.59L10.3 9.45l-7.72 7.72c-.78.78-.78 2.05 0 2.83L4 21.41c.39.39.9.59 1.41.59.51 0 1.02-.2 1.41-.59l7.78-7.78 2.81-2.81c.8-.78.8-2.07 0-2.86zM5.41 20L4 18.59l7.72-7.72 1.47 1.35L5.41 20z\"/>\n",
              "  </svg>\n",
              "      </button>\n",
              "      \n",
              "  <style>\n",
              "    .colab-df-container {\n",
              "      display:flex;\n",
              "      flex-wrap:wrap;\n",
              "      gap: 12px;\n",
              "    }\n",
              "\n",
              "    .colab-df-convert {\n",
              "      background-color: #E8F0FE;\n",
              "      border: none;\n",
              "      border-radius: 50%;\n",
              "      cursor: pointer;\n",
              "      display: none;\n",
              "      fill: #1967D2;\n",
              "      height: 32px;\n",
              "      padding: 0 0 0 0;\n",
              "      width: 32px;\n",
              "    }\n",
              "\n",
              "    .colab-df-convert:hover {\n",
              "      background-color: #E2EBFA;\n",
              "      box-shadow: 0px 1px 2px rgba(60, 64, 67, 0.3), 0px 1px 3px 1px rgba(60, 64, 67, 0.15);\n",
              "      fill: #174EA6;\n",
              "    }\n",
              "\n",
              "    [theme=dark] .colab-df-convert {\n",
              "      background-color: #3B4455;\n",
              "      fill: #D2E3FC;\n",
              "    }\n",
              "\n",
              "    [theme=dark] .colab-df-convert:hover {\n",
              "      background-color: #434B5C;\n",
              "      box-shadow: 0px 1px 3px 1px rgba(0, 0, 0, 0.15);\n",
              "      filter: drop-shadow(0px 1px 2px rgba(0, 0, 0, 0.3));\n",
              "      fill: #FFFFFF;\n",
              "    }\n",
              "  </style>\n",
              "\n",
              "      <script>\n",
              "        const buttonEl =\n",
              "          document.querySelector('#df-80622b4e-7e60-4724-adf7-a164cb953fad button.colab-df-convert');\n",
              "        buttonEl.style.display =\n",
              "          google.colab.kernel.accessAllowed ? 'block' : 'none';\n",
              "\n",
              "        async function convertToInteractive(key) {\n",
              "          const element = document.querySelector('#df-80622b4e-7e60-4724-adf7-a164cb953fad');\n",
              "          const dataTable =\n",
              "            await google.colab.kernel.invokeFunction('convertToInteractive',\n",
              "                                                     [key], {});\n",
              "          if (!dataTable) return;\n",
              "\n",
              "          const docLinkHtml = 'Like what you see? Visit the ' +\n",
              "            '<a target=\"_blank\" href=https://colab.research.google.com/notebooks/data_table.ipynb>data table notebook</a>'\n",
              "            + ' to learn more about interactive tables.';\n",
              "          element.innerHTML = '';\n",
              "          dataTable['output_type'] = 'display_data';\n",
              "          await google.colab.output.renderOutput(dataTable, element);\n",
              "          const docLink = document.createElement('div');\n",
              "          docLink.innerHTML = docLinkHtml;\n",
              "          element.appendChild(docLink);\n",
              "        }\n",
              "      </script>\n",
              "    </div>\n",
              "  </div>\n",
              "  "
            ],
            "text/plain": [
              "   Review ID  Clothing ID  Age  ...   Division Name Department Name  Class Name\n",
              "0       1214         1094   52  ...         General         Dresses     Dresses\n",
              "1       1917         1066   72  ...  General Petite         Bottoms       Pants\n",
              "2      18277          854   39  ...         General            Tops       Knits\n",
              "3      10757          864   34  ...  General Petite            Tops       Knits\n",
              "4      10782         1110   43  ...  General Petite         Dresses     Dresses\n",
              "\n",
              "[5 rows x 11 columns]"
            ]
          },
          "metadata": {},
          "execution_count": 124
        }
      ]
    },
    {
      "cell_type": "code",
      "source": [
        "len(df)"
      ],
      "metadata": {
        "colab": {
          "base_uri": "https://localhost:8080/"
        },
        "id": "SnqR-emrdbXS",
        "outputId": "af792d8e-f2ea-4272-df2f-4e2d6837deae"
      },
      "execution_count": null,
      "outputs": [
        {
          "output_type": "execute_result",
          "data": {
            "text/plain": [
              "18788"
            ]
          },
          "metadata": {},
          "execution_count": 125
        }
      ]
    },
    {
      "cell_type": "markdown",
      "source": [
        "# Check empty values"
      ],
      "metadata": {
        "id": "vJ8FsAPulGky"
      }
    },
    {
      "cell_type": "code",
      "source": [
        "df.dtypes"
      ],
      "metadata": {
        "colab": {
          "base_uri": "https://localhost:8080/"
        },
        "id": "rY9sgkRoawpf",
        "outputId": "0ff25b47-4efd-4089-a0e3-db70e01d6bb1"
      },
      "execution_count": null,
      "outputs": [
        {
          "output_type": "execute_result",
          "data": {
            "text/plain": [
              "Review ID                   int64\n",
              "Clothing ID                 int64\n",
              "Age                         int64\n",
              "Title                      object\n",
              "Review Text                object\n",
              "Rating                      int64\n",
              "Recommended IND             int64\n",
              "Positive Feedback Count     int64\n",
              "Division Name              object\n",
              "Department Name            object\n",
              "Class Name                 object\n",
              "dtype: object"
            ]
          },
          "metadata": {},
          "execution_count": 126
        }
      ]
    },
    {
      "cell_type": "code",
      "source": [
        "print(len(df[df['Title'] == None]))\n",
        "print(len(df[df['Review Text'] == None]))"
      ],
      "metadata": {
        "colab": {
          "base_uri": "https://localhost:8080/"
        },
        "id": "IV6o_rIka4FX",
        "outputId": "a224f16c-693c-4166-8c12-b78aaec6761d"
      },
      "execution_count": null,
      "outputs": [
        {
          "output_type": "stream",
          "name": "stdout",
          "text": [
            "0\n",
            "0\n"
          ]
        }
      ]
    },
    {
      "cell_type": "markdown",
      "source": [
        "String columns should be converted to str type because object type can represent multiple types"
      ],
      "metadata": {
        "id": "ReQiWhi0a052"
      }
    },
    {
      "cell_type": "code",
      "source": [
        "df['Review Text'] = df['Review Text'].values.astype(str)\n",
        "df['Title'] = df['Title'].values.astype(str)"
      ],
      "metadata": {
        "id": "jTJK6bqsa0Cy"
      },
      "execution_count": null,
      "outputs": []
    },
    {
      "cell_type": "code",
      "source": [
        "print(len(df[df['Title'] == '']))\n",
        "print(len(df[df['Review Text'] == '']))"
      ],
      "metadata": {
        "colab": {
          "base_uri": "https://localhost:8080/"
        },
        "id": "fvw-1w7hci3n",
        "outputId": "a44fa97a-3dad-41ec-c1fb-67266eb2a243"
      },
      "execution_count": null,
      "outputs": [
        {
          "output_type": "stream",
          "name": "stdout",
          "text": [
            "0\n",
            "0\n"
          ]
        }
      ]
    },
    {
      "cell_type": "code",
      "source": [
        "df['Title'].value_counts()"
      ],
      "metadata": {
        "colab": {
          "base_uri": "https://localhost:8080/"
        },
        "id": "6BcB0YuvbjcM",
        "outputId": "02ea0632-7366-4f0a-d77c-89a3a4c3e2e4"
      },
      "execution_count": null,
      "outputs": [
        {
          "output_type": "execute_result",
          "data": {
            "text/plain": [
              "nan                                           3036\n",
              "Love it!                                       104\n",
              "Beautiful                                       72\n",
              "Love                                            70\n",
              "Love!                                           65\n",
              "                                              ... \n",
              "Loved how the front looked.                      1\n",
              "Beautiful but too wide for my petite frame       1\n",
              "Cute suit-didn't work for me                     1\n",
              "Lovely feel and color                            1\n",
              "Great fit & feel                                 1\n",
              "Name: Title, Length: 11456, dtype: int64"
            ]
          },
          "metadata": {},
          "execution_count": 130
        }
      ]
    },
    {
      "cell_type": "code",
      "source": [
        "df[df['Title'] == 'nan'].head()"
      ],
      "metadata": {
        "colab": {
          "base_uri": "https://localhost:8080/"
        },
        "id": "Ouhdu9qCc-5H",
        "outputId": "b959ae61-0f1d-4330-e504-f3b0b24320f9"
      },
      "execution_count": null,
      "outputs": [
        {
          "output_type": "execute_result",
          "data": {
            "text/html": [
              "\n",
              "  <div id=\"df-ae95d21a-a675-4057-b5fa-41ea5597d72a\">\n",
              "    <div class=\"colab-df-container\">\n",
              "      <div>\n",
              "<style scoped>\n",
              "    .dataframe tbody tr th:only-of-type {\n",
              "        vertical-align: middle;\n",
              "    }\n",
              "\n",
              "    .dataframe tbody tr th {\n",
              "        vertical-align: top;\n",
              "    }\n",
              "\n",
              "    .dataframe thead th {\n",
              "        text-align: right;\n",
              "    }\n",
              "</style>\n",
              "<table border=\"1\" class=\"dataframe\">\n",
              "  <thead>\n",
              "    <tr style=\"text-align: right;\">\n",
              "      <th></th>\n",
              "      <th>Review ID</th>\n",
              "      <th>Clothing ID</th>\n",
              "      <th>Age</th>\n",
              "      <th>Title</th>\n",
              "      <th>Review Text</th>\n",
              "      <th>Rating</th>\n",
              "      <th>Recommended IND</th>\n",
              "      <th>Positive Feedback Count</th>\n",
              "      <th>Division Name</th>\n",
              "      <th>Department Name</th>\n",
              "      <th>Class Name</th>\n",
              "    </tr>\n",
              "  </thead>\n",
              "  <tbody>\n",
              "    <tr>\n",
              "      <th>5</th>\n",
              "      <td>18801</td>\n",
              "      <td>1047</td>\n",
              "      <td>63</td>\n",
              "      <td>nan</td>\n",
              "      <td>Purchased these in the blue motif. love the he...</td>\n",
              "      <td>5</td>\n",
              "      <td>1</td>\n",
              "      <td>9</td>\n",
              "      <td>General</td>\n",
              "      <td>Bottoms</td>\n",
              "      <td>Pants</td>\n",
              "    </tr>\n",
              "    <tr>\n",
              "      <th>6</th>\n",
              "      <td>11463</td>\n",
              "      <td>1072</td>\n",
              "      <td>39</td>\n",
              "      <td>nan</td>\n",
              "      <td>Adorable denim dress! fabric is lighter than i...</td>\n",
              "      <td>5</td>\n",
              "      <td>1</td>\n",
              "      <td>0</td>\n",
              "      <td>General</td>\n",
              "      <td>Dresses</td>\n",
              "      <td>Dresses</td>\n",
              "    </tr>\n",
              "    <tr>\n",
              "      <th>9</th>\n",
              "      <td>5454</td>\n",
              "      <td>909</td>\n",
              "      <td>41</td>\n",
              "      <td>nan</td>\n",
              "      <td>This sweater is very pretty. the pictures onli...</td>\n",
              "      <td>5</td>\n",
              "      <td>1</td>\n",
              "      <td>0</td>\n",
              "      <td>General</td>\n",
              "      <td>Tops</td>\n",
              "      <td>Fine gauge</td>\n",
              "    </tr>\n",
              "    <tr>\n",
              "      <th>18</th>\n",
              "      <td>6077</td>\n",
              "      <td>1110</td>\n",
              "      <td>63</td>\n",
              "      <td>nan</td>\n",
              "      <td>I live in hawaii and always looking for a comf...</td>\n",
              "      <td>5</td>\n",
              "      <td>1</td>\n",
              "      <td>0</td>\n",
              "      <td>General Petite</td>\n",
              "      <td>Dresses</td>\n",
              "      <td>Dresses</td>\n",
              "    </tr>\n",
              "    <tr>\n",
              "      <th>37</th>\n",
              "      <td>22092</td>\n",
              "      <td>984</td>\n",
              "      <td>26</td>\n",
              "      <td>nan</td>\n",
              "      <td>I love this denim jacket! it's just a basic li...</td>\n",
              "      <td>5</td>\n",
              "      <td>1</td>\n",
              "      <td>4</td>\n",
              "      <td>General</td>\n",
              "      <td>Jackets</td>\n",
              "      <td>Jackets</td>\n",
              "    </tr>\n",
              "  </tbody>\n",
              "</table>\n",
              "</div>\n",
              "      <button class=\"colab-df-convert\" onclick=\"convertToInteractive('df-ae95d21a-a675-4057-b5fa-41ea5597d72a')\"\n",
              "              title=\"Convert this dataframe to an interactive table.\"\n",
              "              style=\"display:none;\">\n",
              "        \n",
              "  <svg xmlns=\"http://www.w3.org/2000/svg\" height=\"24px\"viewBox=\"0 0 24 24\"\n",
              "       width=\"24px\">\n",
              "    <path d=\"M0 0h24v24H0V0z\" fill=\"none\"/>\n",
              "    <path d=\"M18.56 5.44l.94 2.06.94-2.06 2.06-.94-2.06-.94-.94-2.06-.94 2.06-2.06.94zm-11 1L8.5 8.5l.94-2.06 2.06-.94-2.06-.94L8.5 2.5l-.94 2.06-2.06.94zm10 10l.94 2.06.94-2.06 2.06-.94-2.06-.94-.94-2.06-.94 2.06-2.06.94z\"/><path d=\"M17.41 7.96l-1.37-1.37c-.4-.4-.92-.59-1.43-.59-.52 0-1.04.2-1.43.59L10.3 9.45l-7.72 7.72c-.78.78-.78 2.05 0 2.83L4 21.41c.39.39.9.59 1.41.59.51 0 1.02-.2 1.41-.59l7.78-7.78 2.81-2.81c.8-.78.8-2.07 0-2.86zM5.41 20L4 18.59l7.72-7.72 1.47 1.35L5.41 20z\"/>\n",
              "  </svg>\n",
              "      </button>\n",
              "      \n",
              "  <style>\n",
              "    .colab-df-container {\n",
              "      display:flex;\n",
              "      flex-wrap:wrap;\n",
              "      gap: 12px;\n",
              "    }\n",
              "\n",
              "    .colab-df-convert {\n",
              "      background-color: #E8F0FE;\n",
              "      border: none;\n",
              "      border-radius: 50%;\n",
              "      cursor: pointer;\n",
              "      display: none;\n",
              "      fill: #1967D2;\n",
              "      height: 32px;\n",
              "      padding: 0 0 0 0;\n",
              "      width: 32px;\n",
              "    }\n",
              "\n",
              "    .colab-df-convert:hover {\n",
              "      background-color: #E2EBFA;\n",
              "      box-shadow: 0px 1px 2px rgba(60, 64, 67, 0.3), 0px 1px 3px 1px rgba(60, 64, 67, 0.15);\n",
              "      fill: #174EA6;\n",
              "    }\n",
              "\n",
              "    [theme=dark] .colab-df-convert {\n",
              "      background-color: #3B4455;\n",
              "      fill: #D2E3FC;\n",
              "    }\n",
              "\n",
              "    [theme=dark] .colab-df-convert:hover {\n",
              "      background-color: #434B5C;\n",
              "      box-shadow: 0px 1px 3px 1px rgba(0, 0, 0, 0.15);\n",
              "      filter: drop-shadow(0px 1px 2px rgba(0, 0, 0, 0.3));\n",
              "      fill: #FFFFFF;\n",
              "    }\n",
              "  </style>\n",
              "\n",
              "      <script>\n",
              "        const buttonEl =\n",
              "          document.querySelector('#df-ae95d21a-a675-4057-b5fa-41ea5597d72a button.colab-df-convert');\n",
              "        buttonEl.style.display =\n",
              "          google.colab.kernel.accessAllowed ? 'block' : 'none';\n",
              "\n",
              "        async function convertToInteractive(key) {\n",
              "          const element = document.querySelector('#df-ae95d21a-a675-4057-b5fa-41ea5597d72a');\n",
              "          const dataTable =\n",
              "            await google.colab.kernel.invokeFunction('convertToInteractive',\n",
              "                                                     [key], {});\n",
              "          if (!dataTable) return;\n",
              "\n",
              "          const docLinkHtml = 'Like what you see? Visit the ' +\n",
              "            '<a target=\"_blank\" href=https://colab.research.google.com/notebooks/data_table.ipynb>data table notebook</a>'\n",
              "            + ' to learn more about interactive tables.';\n",
              "          element.innerHTML = '';\n",
              "          dataTable['output_type'] = 'display_data';\n",
              "          await google.colab.output.renderOutput(dataTable, element);\n",
              "          const docLink = document.createElement('div');\n",
              "          docLink.innerHTML = docLinkHtml;\n",
              "          element.appendChild(docLink);\n",
              "        }\n",
              "      </script>\n",
              "    </div>\n",
              "  </div>\n",
              "  "
            ],
            "text/plain": [
              "    Review ID  Clothing ID  Age  ...   Division Name Department Name  Class Name\n",
              "5       18801         1047   63  ...         General         Bottoms       Pants\n",
              "6       11463         1072   39  ...         General         Dresses     Dresses\n",
              "9        5454          909   41  ...         General            Tops  Fine gauge\n",
              "18       6077         1110   63  ...  General Petite         Dresses     Dresses\n",
              "37      22092          984   26  ...         General         Jackets     Jackets\n",
              "\n",
              "[5 rows x 11 columns]"
            ]
          },
          "metadata": {},
          "execution_count": 131
        }
      ]
    },
    {
      "cell_type": "code",
      "source": [
        "df['Review Text'].value_counts()"
      ],
      "metadata": {
        "colab": {
          "base_uri": "https://localhost:8080/"
        },
        "id": "y1yWmlhKdH-d",
        "outputId": "131306dd-a4fb-4528-d3ec-99b37019bbc0"
      },
      "execution_count": null,
      "outputs": [
        {
          "output_type": "execute_result",
          "data": {
            "text/plain": [
              "nan                                                                                                                                                                                                                                                                                                                                                                                                                                                                                                                     672\n",
              "The sweater and skirt are so pretty! they're really soft and have such an easy, comfortable look together. really love this gorgeous outfit.\\n\\ni am borderline small/medium and kept the size small after trying both on.                                                                                                                                                                                                                                                                                                2\n",
              "Love, love these jeans. being short they come right to my ankle. super soft and don?t require any hemming. i ordered my typical jean size of 26 and they fit like a glove. would love to have these in black and grey.                                                                                                                                                                                                                                                                                                    2\n",
              "Lightweight, soft cotton top and shorts. i think it's meant to be a beach cover-up but i'm wearing it as a thin, light-weight summer outfit on these hot hot days. the top has a loose elastic around the bottom which i didn't realize when i ordered it, but i like it and it matches the look in the photos. and the shorts are very low-cut - don't expect them up around your waist. again, i like that. some might want to wear a cami underneath because it's a thin cotton but i'm fine as-is. i bought it i      2\n",
              "Beautiful dress. good quality. tts. i'm 5 feet 120 lbs. ordered my small petite. no issues. however, the green is very bright. the deal killer for me was when my hub said it looked like a starbucks barista's apron! it's going back. i marked yes if you plan on purchasing a black dress it's a yes.                                                                                                                                                                                                                  1\n",
              "                                                                                                                                                                                                                                                                                                                                                                                                                                                                                                                       ... \n",
              "I got this as a gift and one for me. the medium fits my mom but i got the large because i'm 6'1 and it was large enough but so short waisted. i wouldn't recommend it for women over 5'7                                                                                                                                                                                                                                                                                                                                  1\n",
              "Love the colors and top part but it runs extremely large and there is way too much fabric it is almost like a moo moo. had to return                                                                                                                                                                                                                                                                                                                                                                                      1\n",
              "Very well made dress but runs extremely small! definitely size up!                                                                                                                                                                                                                                                                                                                                                                                                                                                        1\n",
              "These jeans run true to size, very comfy and i love the frayed bottoms                                                                                                                                                                                                                                                                                                                                                                                                                                                    1\n",
              "I love this dress and will be purchasing it in other patterns. the fit is incredibly flattering and the fabric is lovely. doesn't wrinkle, easy to wash and wear. i am 5'7, 190lbs, bottom heavy with a 38c bra size. i purchased the size large and it fits me perfectly (though perhaps a little bit snug in the waist). if i wanted a looser fit, an xl would probably work though might be a bit loose on the top. the low back hits just above my bra strap, but does in fact cover all straps. for reference,       1\n",
              "Name: Review Text, Length: 18114, dtype: int64"
            ]
          },
          "metadata": {},
          "execution_count": 132
        }
      ]
    },
    {
      "cell_type": "markdown",
      "source": [
        "'nan' is same as empty string"
      ],
      "metadata": {
        "id": "r1R7wP36dpCK"
      }
    },
    {
      "cell_type": "code",
      "source": [
        "df['Title'] = df['Title'].apply(lambda x: '' if x == 'nan' else x)"
      ],
      "metadata": {
        "id": "UK0NnWYndx9g"
      },
      "execution_count": null,
      "outputs": []
    },
    {
      "cell_type": "code",
      "source": [
        "df['Title'].value_counts()"
      ],
      "metadata": {
        "colab": {
          "base_uri": "https://localhost:8080/"
        },
        "id": "4Tjd_h40f7ay",
        "outputId": "fc4535e3-b4a8-4f40-bcc8-397b2889c278"
      },
      "execution_count": null,
      "outputs": [
        {
          "output_type": "execute_result",
          "data": {
            "text/plain": [
              "                                              3036\n",
              "Love it!                                       104\n",
              "Beautiful                                       72\n",
              "Love                                            70\n",
              "Love!                                           65\n",
              "                                              ... \n",
              "Loved how the front looked.                      1\n",
              "Beautiful but too wide for my petite frame       1\n",
              "Cute suit-didn't work for me                     1\n",
              "Lovely feel and color                            1\n",
              "Great fit & feel                                 1\n",
              "Name: Title, Length: 11456, dtype: int64"
            ]
          },
          "metadata": {},
          "execution_count": 134
        }
      ]
    },
    {
      "cell_type": "code",
      "source": [
        "len(df[(df['Review Text'] == 'nan') & (df['Title'] != '')])"
      ],
      "metadata": {
        "colab": {
          "base_uri": "https://localhost:8080/"
        },
        "id": "hG7UkfB8hJlf",
        "outputId": "63e5548f-e14b-42ad-ab60-d2df5fe4d8d3"
      },
      "execution_count": null,
      "outputs": [
        {
          "output_type": "execute_result",
          "data": {
            "text/plain": [
              "0"
            ]
          },
          "metadata": {},
          "execution_count": 135
        }
      ]
    },
    {
      "cell_type": "markdown",
      "source": [
        "💡 When review is empty, title is also empty "
      ],
      "metadata": {
        "id": "MiTrJ3sJpMP8"
      }
    },
    {
      "cell_type": "code",
      "source": [
        "df['Rating'].hist()"
      ],
      "metadata": {
        "colab": {
          "base_uri": "https://localhost:8080/"
        },
        "id": "0eCcwyN6vEXW",
        "outputId": "04abdc75-b400-4407-d63d-02b02a878f58"
      },
      "execution_count": null,
      "outputs": [
        {
          "output_type": "execute_result",
          "data": {
            "text/plain": [
              "<matplotlib.axes._subplots.AxesSubplot at 0x7f9bd5a9d4d0>"
            ]
          },
          "metadata": {},
          "execution_count": 136
        },
        {
          "output_type": "display_data",
          "data": {
            "image/png": "[encoded data removed]",
            "text/plain": [
              "<Figure size 432x288 with 1 Axes>"
            ]
          },
          "metadata": {
            "needs_background": "light"
          }
        }
      ]
    },
    {
      "cell_type": "code",
      "source": [
        "df[df['Review Text'] == 'nan']['Rating'].hist()"
      ],
      "metadata": {
        "colab": {
          "base_uri": "https://localhost:8080/"
        },
        "id": "KOhl7AqyiBxR",
        "outputId": "3e26c3e6-f0c6-4c76-8e87-54d09545b337"
      },
      "execution_count": null,
      "outputs": [
        {
          "output_type": "execute_result",
          "data": {
            "text/plain": [
              "<matplotlib.axes._subplots.AxesSubplot at 0x7f9bd5d256d0>"
            ]
          },
          "metadata": {},
          "execution_count": 137
        },
        {
          "output_type": "display_data",
          "data": {
            "image/png": "[encoded data removed]",
            "text/plain": [
              "<Figure size 432x288 with 1 Axes>"
            ]
          },
          "metadata": {
            "needs_background": "light"
          }
        }
      ]
    },
    {
      "cell_type": "markdown",
      "source": [
        "💡 No correlation between empty reviews and rating"
      ],
      "metadata": {
        "id": "4TvvSKsyo07s"
      }
    },
    {
      "cell_type": "markdown",
      "source": [
        "⚡ Remove empty reviews"
      ],
      "metadata": {
        "id": "bAGCRunliK59"
      }
    },
    {
      "cell_type": "code",
      "source": [
        "len(df)"
      ],
      "metadata": {
        "colab": {
          "base_uri": "https://localhost:8080/"
        },
        "id": "zLr9i9IBhDB3",
        "outputId": "3b98ca8e-2c64-4871-a1e1-c6a26567569d"
      },
      "execution_count": null,
      "outputs": [
        {
          "output_type": "execute_result",
          "data": {
            "text/plain": [
              "18788"
            ]
          },
          "metadata": {},
          "execution_count": 138
        }
      ]
    },
    {
      "cell_type": "code",
      "source": [
        "df = df[df['Review Text'] != 'nan']"
      ],
      "metadata": {
        "id": "u_RnQkFze4yE"
      },
      "execution_count": null,
      "outputs": []
    },
    {
      "cell_type": "code",
      "source": [
        "len(df)"
      ],
      "metadata": {
        "colab": {
          "base_uri": "https://localhost:8080/"
        },
        "id": "25TpJE7mgrpU",
        "outputId": "a9c06581-c8b8-449a-9917-39e8d5a0bf76"
      },
      "execution_count": null,
      "outputs": [
        {
          "output_type": "execute_result",
          "data": {
            "text/plain": [
              "18116"
            ]
          },
          "metadata": {},
          "execution_count": 140
        }
      ]
    },
    {
      "cell_type": "markdown",
      "source": [
        "# Check duplicate reviews"
      ],
      "metadata": {
        "id": "FXwCG7CylAI0"
      }
    },
    {
      "cell_type": "code",
      "source": [
        "review_text_counts_df = df['Review Text'].value_counts().rename_axis('unique_values').reset_index(name='counts')"
      ],
      "metadata": {
        "id": "vF4aOa1rkNln"
      },
      "execution_count": null,
      "outputs": []
    },
    {
      "cell_type": "code",
      "source": [
        "len(review_text_counts_df[review_text_counts_df['counts'] > 1])"
      ],
      "metadata": {
        "colab": {
          "base_uri": "https://localhost:8080/"
        },
        "id": "fS3h60H5kXIl",
        "outputId": "1b8f9f8f-c6c0-4b53-a784-c1f8b0d027e2"
      },
      "execution_count": null,
      "outputs": [
        {
          "output_type": "execute_result",
          "data": {
            "text/plain": [
              "3"
            ]
          },
          "metadata": {},
          "execution_count": 142
        }
      ]
    },
    {
      "cell_type": "code",
      "source": [
        "for review in review_text_counts_df[review_text_counts_df['counts'] > 1]['unique_values']:\n",
        "  print(review)\n",
        "  print('---------------------------------------')"
      ],
      "metadata": {
        "colab": {
          "base_uri": "https://localhost:8080/"
        },
        "id": "9jOg4LmPlUQk",
        "outputId": "ace5605c-b16c-4e76-90ce-2ec3f070e8ce"
      },
      "execution_count": null,
      "outputs": [
        {
          "output_type": "stream",
          "name": "stdout",
          "text": [
            "Lightweight, soft cotton top and shorts. i think it's meant to be a beach cover-up but i'm wearing it as a thin, light-weight summer outfit on these hot hot days. the top has a loose elastic around the bottom which i didn't realize when i ordered it, but i like it and it matches the look in the photos. and the shorts are very low-cut - don't expect them up around your waist. again, i like that. some might want to wear a cami underneath because it's a thin cotton but i'm fine as-is. i bought it i\n",
            "---------------------------------------\n",
            "The sweater and skirt are so pretty! they're really soft and have such an easy, comfortable look together. really love this gorgeous outfit.\n",
            "\n",
            "i am borderline small/medium and kept the size small after trying both on.\n",
            "---------------------------------------\n",
            "Love, love these jeans. being short they come right to my ankle. super soft and don?t require any hemming. i ordered my typical jean size of 26 and they fit like a glove. would love to have these in black and grey.\n",
            "---------------------------------------\n"
          ]
        }
      ]
    },
    {
      "cell_type": "code",
      "source": [
        "df[df['Review Text'].isin(review_text_counts_df[review_text_counts_df['counts'] > 1]['unique_values'])]"
      ],
      "metadata": {
        "colab": {
          "base_uri": "https://localhost:8080/"
        },
        "id": "d8Iei-NymGQY",
        "outputId": "8f7a0746-1a9d-419f-ceb9-e51bc54ef96e"
      },
      "execution_count": null,
      "outputs": [
        {
          "output_type": "execute_result",
          "data": {
            "text/html": [
              "\n",
              "  <div id=\"df-80e8165f-233b-4c07-9062-2dc164027d22\">\n",
              "    <div class=\"colab-df-container\">\n",
              "      <div>\n",
              "<style scoped>\n",
              "    .dataframe tbody tr th:only-of-type {\n",
              "        vertical-align: middle;\n",
              "    }\n",
              "\n",
              "    .dataframe tbody tr th {\n",
              "        vertical-align: top;\n",
              "    }\n",
              "\n",
              "    .dataframe thead th {\n",
              "        text-align: right;\n",
              "    }\n",
              "</style>\n",
              "<table border=\"1\" class=\"dataframe\">\n",
              "  <thead>\n",
              "    <tr style=\"text-align: right;\">\n",
              "      <th></th>\n",
              "      <th>Review ID</th>\n",
              "      <th>Clothing ID</th>\n",
              "      <th>Age</th>\n",
              "      <th>Title</th>\n",
              "      <th>Review Text</th>\n",
              "      <th>Rating</th>\n",
              "      <th>Recommended IND</th>\n",
              "      <th>Positive Feedback Count</th>\n",
              "      <th>Division Name</th>\n",
              "      <th>Department Name</th>\n",
              "      <th>Class Name</th>\n",
              "    </tr>\n",
              "  </thead>\n",
              "  <tbody>\n",
              "    <tr>\n",
              "      <th>2527</th>\n",
              "      <td>21888</td>\n",
              "      <td>1022</td>\n",
              "      <td>37</td>\n",
              "      <td></td>\n",
              "      <td>Love, love these jeans. being short they come ...</td>\n",
              "      <td>5</td>\n",
              "      <td>1</td>\n",
              "      <td>0</td>\n",
              "      <td>General</td>\n",
              "      <td>Bottoms</td>\n",
              "      <td>Jeans</td>\n",
              "    </tr>\n",
              "    <tr>\n",
              "      <th>5045</th>\n",
              "      <td>10708</td>\n",
              "      <td>632</td>\n",
              "      <td>60</td>\n",
              "      <td>Cute cover-up or summer top &amp; shorts!</td>\n",
              "      <td>Lightweight, soft cotton top and shorts. i thi...</td>\n",
              "      <td>5</td>\n",
              "      <td>1</td>\n",
              "      <td>8</td>\n",
              "      <td>Initmates</td>\n",
              "      <td>Intimate</td>\n",
              "      <td>Lounge</td>\n",
              "    </tr>\n",
              "    <tr>\n",
              "      <th>6497</th>\n",
              "      <td>11074</td>\n",
              "      <td>628</td>\n",
              "      <td>60</td>\n",
              "      <td>Cute cover-up or summer top &amp; shorts!</td>\n",
              "      <td>Lightweight, soft cotton top and shorts. i thi...</td>\n",
              "      <td>5</td>\n",
              "      <td>1</td>\n",
              "      <td>2</td>\n",
              "      <td>Initmates</td>\n",
              "      <td>Intimate</td>\n",
              "      <td>Lounge</td>\n",
              "    </tr>\n",
              "    <tr>\n",
              "      <th>13910</th>\n",
              "      <td>16988</td>\n",
              "      <td>993</td>\n",
              "      <td>60</td>\n",
              "      <td>Soft &amp; beautiful!</td>\n",
              "      <td>The sweater and skirt are so pretty! they're r...</td>\n",
              "      <td>5</td>\n",
              "      <td>1</td>\n",
              "      <td>1</td>\n",
              "      <td>General</td>\n",
              "      <td>Bottoms</td>\n",
              "      <td>Skirts</td>\n",
              "    </tr>\n",
              "    <tr>\n",
              "      <th>15356</th>\n",
              "      <td>9447</td>\n",
              "      <td>1022</td>\n",
              "      <td>37</td>\n",
              "      <td></td>\n",
              "      <td>Love, love these jeans. being short they come ...</td>\n",
              "      <td>5</td>\n",
              "      <td>1</td>\n",
              "      <td>0</td>\n",
              "      <td>General</td>\n",
              "      <td>Bottoms</td>\n",
              "      <td>Jeans</td>\n",
              "    </tr>\n",
              "    <tr>\n",
              "      <th>18558</th>\n",
              "      <td>21470</td>\n",
              "      <td>895</td>\n",
              "      <td>60</td>\n",
              "      <td>Soft &amp; beautiful!</td>\n",
              "      <td>The sweater and skirt are so pretty! they're r...</td>\n",
              "      <td>5</td>\n",
              "      <td>1</td>\n",
              "      <td>5</td>\n",
              "      <td>General Petite</td>\n",
              "      <td>Tops</td>\n",
              "      <td>Fine gauge</td>\n",
              "    </tr>\n",
              "  </tbody>\n",
              "</table>\n",
              "</div>\n",
              "      <button class=\"colab-df-convert\" onclick=\"convertToInteractive('df-80e8165f-233b-4c07-9062-2dc164027d22')\"\n",
              "              title=\"Convert this dataframe to an interactive table.\"\n",
              "              style=\"display:none;\">\n",
              "        \n",
              "  <svg xmlns=\"http://www.w3.org/2000/svg\" height=\"24px\"viewBox=\"0 0 24 24\"\n",
              "       width=\"24px\">\n",
              "    <path d=\"M0 0h24v24H0V0z\" fill=\"none\"/>\n",
              "    <path d=\"M18.56 5.44l.94 2.06.94-2.06 2.06-.94-2.06-.94-.94-2.06-.94 2.06-2.06.94zm-11 1L8.5 8.5l.94-2.06 2.06-.94-2.06-.94L8.5 2.5l-.94 2.06-2.06.94zm10 10l.94 2.06.94-2.06 2.06-.94-2.06-.94-.94-2.06-.94 2.06-2.06.94z\"/><path d=\"M17.41 7.96l-1.37-1.37c-.4-.4-.92-.59-1.43-.59-.52 0-1.04.2-1.43.59L10.3 9.45l-7.72 7.72c-.78.78-.78 2.05 0 2.83L4 21.41c.39.39.9.59 1.41.59.51 0 1.02-.2 1.41-.59l7.78-7.78 2.81-2.81c.8-.78.8-2.07 0-2.86zM5.41 20L4 18.59l7.72-7.72 1.47 1.35L5.41 20z\"/>\n",
              "  </svg>\n",
              "      </button>\n",
              "      \n",
              "  <style>\n",
              "    .colab-df-container {\n",
              "      display:flex;\n",
              "      flex-wrap:wrap;\n",
              "      gap: 12px;\n",
              "    }\n",
              "\n",
              "    .colab-df-convert {\n",
              "      background-color: #E8F0FE;\n",
              "      border: none;\n",
              "      border-radius: 50%;\n",
              "      cursor: pointer;\n",
              "      display: none;\n",
              "      fill: #1967D2;\n",
              "      height: 32px;\n",
              "      padding: 0 0 0 0;\n",
              "      width: 32px;\n",
              "    }\n",
              "\n",
              "    .colab-df-convert:hover {\n",
              "      background-color: #E2EBFA;\n",
              "      box-shadow: 0px 1px 2px rgba(60, 64, 67, 0.3), 0px 1px 3px 1px rgba(60, 64, 67, 0.15);\n",
              "      fill: #174EA6;\n",
              "    }\n",
              "\n",
              "    [theme=dark] .colab-df-convert {\n",
              "      background-color: #3B4455;\n",
              "      fill: #D2E3FC;\n",
              "    }\n",
              "\n",
              "    [theme=dark] .colab-df-convert:hover {\n",
              "      background-color: #434B5C;\n",
              "      box-shadow: 0px 1px 3px 1px rgba(0, 0, 0, 0.15);\n",
              "      filter: drop-shadow(0px 1px 2px rgba(0, 0, 0, 0.3));\n",
              "      fill: #FFFFFF;\n",
              "    }\n",
              "  </style>\n",
              "\n",
              "      <script>\n",
              "        const buttonEl =\n",
              "          document.querySelector('#df-80e8165f-233b-4c07-9062-2dc164027d22 button.colab-df-convert');\n",
              "        buttonEl.style.display =\n",
              "          google.colab.kernel.accessAllowed ? 'block' : 'none';\n",
              "\n",
              "        async function convertToInteractive(key) {\n",
              "          const element = document.querySelector('#df-80e8165f-233b-4c07-9062-2dc164027d22');\n",
              "          const dataTable =\n",
              "            await google.colab.kernel.invokeFunction('convertToInteractive',\n",
              "                                                     [key], {});\n",
              "          if (!dataTable) return;\n",
              "\n",
              "          const docLinkHtml = 'Like what you see? Visit the ' +\n",
              "            '<a target=\"_blank\" href=https://colab.research.google.com/notebooks/data_table.ipynb>data table notebook</a>'\n",
              "            + ' to learn more about interactive tables.';\n",
              "          element.innerHTML = '';\n",
              "          dataTable['output_type'] = 'display_data';\n",
              "          await google.colab.output.renderOutput(dataTable, element);\n",
              "          const docLink = document.createElement('div');\n",
              "          docLink.innerHTML = docLinkHtml;\n",
              "          element.appendChild(docLink);\n",
              "        }\n",
              "      </script>\n",
              "    </div>\n",
              "  </div>\n",
              "  "
            ],
            "text/plain": [
              "       Review ID  Clothing ID  Age  ...   Division Name Department Name  Class Name\n",
              "2527       21888         1022   37  ...         General         Bottoms       Jeans\n",
              "5045       10708          632   60  ...       Initmates        Intimate      Lounge\n",
              "6497       11074          628   60  ...       Initmates        Intimate      Lounge\n",
              "13910      16988          993   60  ...         General         Bottoms      Skirts\n",
              "15356       9447         1022   37  ...         General         Bottoms       Jeans\n",
              "18558      21470          895   60  ...  General Petite            Tops  Fine gauge\n",
              "\n",
              "[6 rows x 11 columns]"
            ]
          },
          "metadata": {},
          "execution_count": 144
        }
      ]
    },
    {
      "cell_type": "markdown",
      "source": [
        "⚡ No need to keep duplicate reviews"
      ],
      "metadata": {
        "id": "BRyZFwgPonL7"
      }
    },
    {
      "cell_type": "code",
      "source": [
        "len(df)"
      ],
      "metadata": {
        "colab": {
          "base_uri": "https://localhost:8080/"
        },
        "id": "ogJLSpw5oTI9",
        "outputId": "59c662b1-3248-4d36-d92a-1e60b4db48ae"
      },
      "execution_count": null,
      "outputs": [
        {
          "output_type": "execute_result",
          "data": {
            "text/plain": [
              "18116"
            ]
          },
          "metadata": {},
          "execution_count": 145
        }
      ]
    },
    {
      "cell_type": "code",
      "source": [
        "df.drop_duplicates(subset='Review Text', inplace=True)"
      ],
      "metadata": {
        "id": "NDXCT3Srn-Os"
      },
      "execution_count": null,
      "outputs": []
    },
    {
      "cell_type": "code",
      "source": [
        "len(df)"
      ],
      "metadata": {
        "colab": {
          "base_uri": "https://localhost:8080/"
        },
        "id": "dxkAQUvAoVBs",
        "outputId": "bf4ceaef-1740-4f23-8d74-8ae366f68b90"
      },
      "execution_count": null,
      "outputs": [
        {
          "output_type": "execute_result",
          "data": {
            "text/plain": [
              "18113"
            ]
          },
          "metadata": {},
          "execution_count": 147
        }
      ]
    },
    {
      "cell_type": "markdown",
      "source": [
        "# Fix whitespaces"
      ],
      "metadata": {
        "id": "fmnCrzB6lxFu"
      }
    },
    {
      "cell_type": "code",
      "source": [
        "df['Review Text'].str.contains('\\n').sum()"
      ],
      "metadata": {
        "colab": {
          "base_uri": "https://localhost:8080/"
        },
        "id": "AXhDSZdTrD5c",
        "outputId": "b8424f1d-24cb-4523-c9ae-9332e3b3b38b"
      },
      "execution_count": null,
      "outputs": [
        {
          "output_type": "execute_result",
          "data": {
            "text/plain": [
              "1634"
            ]
          },
          "metadata": {},
          "execution_count": 148
        }
      ]
    },
    {
      "cell_type": "code",
      "source": [
        "df['Review Text'] = df['Review Text'].apply(lambda x: ' '.join(x.split()))"
      ],
      "metadata": {
        "id": "RaXLq2YRqz47"
      },
      "execution_count": null,
      "outputs": []
    },
    {
      "cell_type": "code",
      "source": [
        "df['Review Text'].str.contains('\\n').sum()"
      ],
      "metadata": {
        "colab": {
          "base_uri": "https://localhost:8080/"
        },
        "id": "fI6_9Qh9q-jT",
        "outputId": "8f412904-0149-427c-bde5-2ba7fca680e1"
      },
      "execution_count": null,
      "outputs": [
        {
          "output_type": "execute_result",
          "data": {
            "text/plain": [
              "0"
            ]
          },
          "metadata": {},
          "execution_count": 150
        }
      ]
    },
    {
      "cell_type": "markdown",
      "source": [
        "# Check shortest/longest reviews and titles"
      ],
      "metadata": {
        "id": "GfEsR6VYl1o5"
      }
    },
    {
      "cell_type": "code",
      "source": [
        "df['Title Length'] = df['Title'].apply(lambda x: len(x.split()))\n",
        "df['Review Length'] = df['Review Text'].apply(lambda x: len(x.split()))"
      ],
      "metadata": {
        "id": "gBxuG7dsr8ay"
      },
      "execution_count": null,
      "outputs": []
    },
    {
      "cell_type": "code",
      "source": [
        "df.head()"
      ],
      "metadata": {
        "colab": {
          "base_uri": "https://localhost:8080/"
        },
        "id": "QihN-fj4tS0I",
        "outputId": "59126c29-e6ee-44a7-a0a8-8ce7f41352c6"
      },
      "execution_count": null,
      "outputs": [
        {
          "output_type": "execute_result",
          "data": {
            "text/html": [
              "\n",
              "  <div id=\"df-4212bbdd-fa35-4a68-9eb9-f7b148376473\">\n",
              "    <div class=\"colab-df-container\">\n",
              "      <div>\n",
              "<style scoped>\n",
              "    .dataframe tbody tr th:only-of-type {\n",
              "        vertical-align: middle;\n",
              "    }\n",
              "\n",
              "    .dataframe tbody tr th {\n",
              "        vertical-align: top;\n",
              "    }\n",
              "\n",
              "    .dataframe thead th {\n",
              "        text-align: right;\n",
              "    }\n",
              "</style>\n",
              "<table border=\"1\" class=\"dataframe\">\n",
              "  <thead>\n",
              "    <tr style=\"text-align: right;\">\n",
              "      <th></th>\n",
              "      <th>Review ID</th>\n",
              "      <th>Clothing ID</th>\n",
              "      <th>Age</th>\n",
              "      <th>Title</th>\n",
              "      <th>Review Text</th>\n",
              "      <th>Rating</th>\n",
              "      <th>Recommended IND</th>\n",
              "      <th>Positive Feedback Count</th>\n",
              "      <th>Division Name</th>\n",
              "      <th>Department Name</th>\n",
              "      <th>Class Name</th>\n",
              "      <th>Title Length</th>\n",
              "      <th>Review Length</th>\n",
              "    </tr>\n",
              "  </thead>\n",
              "  <tbody>\n",
              "    <tr>\n",
              "      <th>0</th>\n",
              "      <td>1214</td>\n",
              "      <td>1094</td>\n",
              "      <td>52</td>\n",
              "      <td>Great dress but not in green</td>\n",
              "      <td>Beautiful dress. good quality. tts. i'm 5 feet...</td>\n",
              "      <td>3</td>\n",
              "      <td>1</td>\n",
              "      <td>1</td>\n",
              "      <td>General</td>\n",
              "      <td>Dresses</td>\n",
              "      <td>Dresses</td>\n",
              "      <td>6</td>\n",
              "      <td>56</td>\n",
              "    </tr>\n",
              "    <tr>\n",
              "      <th>1</th>\n",
              "      <td>1917</td>\n",
              "      <td>1066</td>\n",
              "      <td>72</td>\n",
              "      <td>Love! but more tall options, please!</td>\n",
              "      <td>These pants are so great. i am 5'10 and the ta...</td>\n",
              "      <td>5</td>\n",
              "      <td>1</td>\n",
              "      <td>11</td>\n",
              "      <td>General Petite</td>\n",
              "      <td>Bottoms</td>\n",
              "      <td>Pants</td>\n",
              "      <td>6</td>\n",
              "      <td>82</td>\n",
              "    </tr>\n",
              "    <tr>\n",
              "      <th>2</th>\n",
              "      <td>18277</td>\n",
              "      <td>854</td>\n",
              "      <td>39</td>\n",
              "      <td>Love it!</td>\n",
              "      <td>I bought a size s in the navy, and m in the ne...</td>\n",
              "      <td>5</td>\n",
              "      <td>1</td>\n",
              "      <td>0</td>\n",
              "      <td>General</td>\n",
              "      <td>Tops</td>\n",
              "      <td>Knits</td>\n",
              "      <td>2</td>\n",
              "      <td>69</td>\n",
              "    </tr>\n",
              "    <tr>\n",
              "      <th>3</th>\n",
              "      <td>10757</td>\n",
              "      <td>864</td>\n",
              "      <td>34</td>\n",
              "      <td>Runs big but cute buy on sale</td>\n",
              "      <td>Loved this shirt but it runs pretty big. i'm n...</td>\n",
              "      <td>3</td>\n",
              "      <td>1</td>\n",
              "      <td>1</td>\n",
              "      <td>General Petite</td>\n",
              "      <td>Tops</td>\n",
              "      <td>Knits</td>\n",
              "      <td>7</td>\n",
              "      <td>51</td>\n",
              "    </tr>\n",
              "    <tr>\n",
              "      <th>4</th>\n",
              "      <td>10782</td>\n",
              "      <td>1110</td>\n",
              "      <td>43</td>\n",
              "      <td>Looks better than the picture!</td>\n",
              "      <td>I love this dress! i was trying on some dresse...</td>\n",
              "      <td>5</td>\n",
              "      <td>1</td>\n",
              "      <td>0</td>\n",
              "      <td>General Petite</td>\n",
              "      <td>Dresses</td>\n",
              "      <td>Dresses</td>\n",
              "      <td>5</td>\n",
              "      <td>105</td>\n",
              "    </tr>\n",
              "  </tbody>\n",
              "</table>\n",
              "</div>\n",
              "      <button class=\"colab-df-convert\" onclick=\"convertToInteractive('df-4212bbdd-fa35-4a68-9eb9-f7b148376473')\"\n",
              "              title=\"Convert this dataframe to an interactive table.\"\n",
              "              style=\"display:none;\">\n",
              "        \n",
              "  <svg xmlns=\"http://www.w3.org/2000/svg\" height=\"24px\"viewBox=\"0 0 24 24\"\n",
              "       width=\"24px\">\n",
              "    <path d=\"M0 0h24v24H0V0z\" fill=\"none\"/>\n",
              "    <path d=\"M18.56 5.44l.94 2.06.94-2.06 2.06-.94-2.06-.94-.94-2.06-.94 2.06-2.06.94zm-11 1L8.5 8.5l.94-2.06 2.06-.94-2.06-.94L8.5 2.5l-.94 2.06-2.06.94zm10 10l.94 2.06.94-2.06 2.06-.94-2.06-.94-.94-2.06-.94 2.06-2.06.94z\"/><path d=\"M17.41 7.96l-1.37-1.37c-.4-.4-.92-.59-1.43-.59-.52 0-1.04.2-1.43.59L10.3 9.45l-7.72 7.72c-.78.78-.78 2.05 0 2.83L4 21.41c.39.39.9.59 1.41.59.51 0 1.02-.2 1.41-.59l7.78-7.78 2.81-2.81c.8-.78.8-2.07 0-2.86zM5.41 20L4 18.59l7.72-7.72 1.47 1.35L5.41 20z\"/>\n",
              "  </svg>\n",
              "      </button>\n",
              "      \n",
              "  <style>\n",
              "    .colab-df-container {\n",
              "      display:flex;\n",
              "      flex-wrap:wrap;\n",
              "      gap: 12px;\n",
              "    }\n",
              "\n",
              "    .colab-df-convert {\n",
              "      background-color: #E8F0FE;\n",
              "      border: none;\n",
              "      border-radius: 50%;\n",
              "      cursor: pointer;\n",
              "      display: none;\n",
              "      fill: #1967D2;\n",
              "      height: 32px;\n",
              "      padding: 0 0 0 0;\n",
              "      width: 32px;\n",
              "    }\n",
              "\n",
              "    .colab-df-convert:hover {\n",
              "      background-color: #E2EBFA;\n",
              "      box-shadow: 0px 1px 2px rgba(60, 64, 67, 0.3), 0px 1px 3px 1px rgba(60, 64, 67, 0.15);\n",
              "      fill: #174EA6;\n",
              "    }\n",
              "\n",
              "    [theme=dark] .colab-df-convert {\n",
              "      background-color: #3B4455;\n",
              "      fill: #D2E3FC;\n",
              "    }\n",
              "\n",
              "    [theme=dark] .colab-df-convert:hover {\n",
              "      background-color: #434B5C;\n",
              "      box-shadow: 0px 1px 3px 1px rgba(0, 0, 0, 0.15);\n",
              "      filter: drop-shadow(0px 1px 2px rgba(0, 0, 0, 0.3));\n",
              "      fill: #FFFFFF;\n",
              "    }\n",
              "  </style>\n",
              "\n",
              "      <script>\n",
              "        const buttonEl =\n",
              "          document.querySelector('#df-4212bbdd-fa35-4a68-9eb9-f7b148376473 button.colab-df-convert');\n",
              "        buttonEl.style.display =\n",
              "          google.colab.kernel.accessAllowed ? 'block' : 'none';\n",
              "\n",
              "        async function convertToInteractive(key) {\n",
              "          const element = document.querySelector('#df-4212bbdd-fa35-4a68-9eb9-f7b148376473');\n",
              "          const dataTable =\n",
              "            await google.colab.kernel.invokeFunction('convertToInteractive',\n",
              "                                                     [key], {});\n",
              "          if (!dataTable) return;\n",
              "\n",
              "          const docLinkHtml = 'Like what you see? Visit the ' +\n",
              "            '<a target=\"_blank\" href=https://colab.research.google.com/notebooks/data_table.ipynb>data table notebook</a>'\n",
              "            + ' to learn more about interactive tables.';\n",
              "          element.innerHTML = '';\n",
              "          dataTable['output_type'] = 'display_data';\n",
              "          await google.colab.output.renderOutput(dataTable, element);\n",
              "          const docLink = document.createElement('div');\n",
              "          docLink.innerHTML = docLinkHtml;\n",
              "          element.appendChild(docLink);\n",
              "        }\n",
              "      </script>\n",
              "    </div>\n",
              "  </div>\n",
              "  "
            ],
            "text/plain": [
              "   Review ID  Clothing ID  Age  ... Class Name Title Length  Review Length\n",
              "0       1214         1094   52  ...    Dresses            6             56\n",
              "1       1917         1066   72  ...      Pants            6             82\n",
              "2      18277          854   39  ...      Knits            2             69\n",
              "3      10757          864   34  ...      Knits            7             51\n",
              "4      10782         1110   43  ...    Dresses            5            105\n",
              "\n",
              "[5 rows x 13 columns]"
            ]
          },
          "metadata": {},
          "execution_count": 152
        }
      ]
    },
    {
      "cell_type": "code",
      "source": [
        "df.sort_values('Title Length', ascending=False).head()"
      ],
      "metadata": {
        "colab": {
          "base_uri": "https://localhost:8080/"
        },
        "id": "djnkwxI7uZPk",
        "outputId": "50b25250-1cc1-4ad5-c928-c7b2e08d3991"
      },
      "execution_count": null,
      "outputs": [
        {
          "output_type": "execute_result",
          "data": {
            "text/html": [
              "\n",
              "  <div id=\"df-0ee1cf61-0ada-4fb9-bf38-af4d5c9fcf27\">\n",
              "    <div class=\"colab-df-container\">\n",
              "      <div>\n",
              "<style scoped>\n",
              "    .dataframe tbody tr th:only-of-type {\n",
              "        vertical-align: middle;\n",
              "    }\n",
              "\n",
              "    .dataframe tbody tr th {\n",
              "        vertical-align: top;\n",
              "    }\n",
              "\n",
              "    .dataframe thead th {\n",
              "        text-align: right;\n",
              "    }\n",
              "</style>\n",
              "<table border=\"1\" class=\"dataframe\">\n",
              "  <thead>\n",
              "    <tr style=\"text-align: right;\">\n",
              "      <th></th>\n",
              "      <th>Review ID</th>\n",
              "      <th>Clothing ID</th>\n",
              "      <th>Age</th>\n",
              "      <th>Title</th>\n",
              "      <th>Review Text</th>\n",
              "      <th>Rating</th>\n",
              "      <th>Recommended IND</th>\n",
              "      <th>Positive Feedback Count</th>\n",
              "      <th>Division Name</th>\n",
              "      <th>Department Name</th>\n",
              "      <th>Class Name</th>\n",
              "      <th>Title Length</th>\n",
              "      <th>Review Length</th>\n",
              "    </tr>\n",
              "  </thead>\n",
              "  <tbody>\n",
              "    <tr>\n",
              "      <th>5056</th>\n",
              "      <td>8121</td>\n",
              "      <td>833</td>\n",
              "      <td>51</td>\n",
              "      <td>It's not a black and white top - it's ecru and...</td>\n",
              "      <td>I suppose i would have kept this top i hadn't ...</td>\n",
              "      <td>3</td>\n",
              "      <td>0</td>\n",
              "      <td>3</td>\n",
              "      <td>General</td>\n",
              "      <td>Tops</td>\n",
              "      <td>Blouses</td>\n",
              "      <td>12</td>\n",
              "      <td>29</td>\n",
              "    </tr>\n",
              "    <tr>\n",
              "      <th>10189</th>\n",
              "      <td>18717</td>\n",
              "      <td>829</td>\n",
              "      <td>28</td>\n",
              "      <td>If you have red hair you have to get this in k...</td>\n",
              "      <td>This top is soft feeling and i appreciate that...</td>\n",
              "      <td>5</td>\n",
              "      <td>1</td>\n",
              "      <td>0</td>\n",
              "      <td>General</td>\n",
              "      <td>Tops</td>\n",
              "      <td>Blouses</td>\n",
              "      <td>12</td>\n",
              "      <td>55</td>\n",
              "    </tr>\n",
              "    <tr>\n",
              "      <th>12433</th>\n",
              "      <td>10523</td>\n",
              "      <td>1110</td>\n",
              "      <td>63</td>\n",
              "      <td>The print is a work of art - i love this dress</td>\n",
              "      <td>The delicate print and coloring are stunning. ...</td>\n",
              "      <td>5</td>\n",
              "      <td>1</td>\n",
              "      <td>2</td>\n",
              "      <td>General</td>\n",
              "      <td>Dresses</td>\n",
              "      <td>Dresses</td>\n",
              "      <td>12</td>\n",
              "      <td>93</td>\n",
              "    </tr>\n",
              "    <tr>\n",
              "      <th>2060</th>\n",
              "      <td>18675</td>\n",
              "      <td>1068</td>\n",
              "      <td>65</td>\n",
              "      <td>Love the style - hate the dye left on my skin</td>\n",
              "      <td>I recommend this product, but with the followi...</td>\n",
              "      <td>2</td>\n",
              "      <td>1</td>\n",
              "      <td>0</td>\n",
              "      <td>General Petite</td>\n",
              "      <td>Bottoms</td>\n",
              "      <td>Pants</td>\n",
              "      <td>11</td>\n",
              "      <td>66</td>\n",
              "    </tr>\n",
              "    <tr>\n",
              "      <th>11530</th>\n",
              "      <td>11042</td>\n",
              "      <td>1093</td>\n",
              "      <td>46</td>\n",
              "      <td>Gorgeous dress - but a little heavy for a hot day</td>\n",
              "      <td>Ordered this online in a petite 4. (i'm 5'3\"/1...</td>\n",
              "      <td>5</td>\n",
              "      <td>1</td>\n",
              "      <td>4</td>\n",
              "      <td>General</td>\n",
              "      <td>Dresses</td>\n",
              "      <td>Dresses</td>\n",
              "      <td>11</td>\n",
              "      <td>98</td>\n",
              "    </tr>\n",
              "  </tbody>\n",
              "</table>\n",
              "</div>\n",
              "      <button class=\"colab-df-convert\" onclick=\"convertToInteractive('df-0ee1cf61-0ada-4fb9-bf38-af4d5c9fcf27')\"\n",
              "              title=\"Convert this dataframe to an interactive table.\"\n",
              "              style=\"display:none;\">\n",
              "        \n",
              "  <svg xmlns=\"http://www.w3.org/2000/svg\" height=\"24px\"viewBox=\"0 0 24 24\"\n",
              "       width=\"24px\">\n",
              "    <path d=\"M0 0h24v24H0V0z\" fill=\"none\"/>\n",
              "    <path d=\"M18.56 5.44l.94 2.06.94-2.06 2.06-.94-2.06-.94-.94-2.06-.94 2.06-2.06.94zm-11 1L8.5 8.5l.94-2.06 2.06-.94-2.06-.94L8.5 2.5l-.94 2.06-2.06.94zm10 10l.94 2.06.94-2.06 2.06-.94-2.06-.94-.94-2.06-.94 2.06-2.06.94z\"/><path d=\"M17.41 7.96l-1.37-1.37c-.4-.4-.92-.59-1.43-.59-.52 0-1.04.2-1.43.59L10.3 9.45l-7.72 7.72c-.78.78-.78 2.05 0 2.83L4 21.41c.39.39.9.59 1.41.59.51 0 1.02-.2 1.41-.59l7.78-7.78 2.81-2.81c.8-.78.8-2.07 0-2.86zM5.41 20L4 18.59l7.72-7.72 1.47 1.35L5.41 20z\"/>\n",
              "  </svg>\n",
              "      </button>\n",
              "      \n",
              "  <style>\n",
              "    .colab-df-container {\n",
              "      display:flex;\n",
              "      flex-wrap:wrap;\n",
              "      gap: 12px;\n",
              "    }\n",
              "\n",
              "    .colab-df-convert {\n",
              "      background-color: #E8F0FE;\n",
              "      border: none;\n",
              "      border-radius: 50%;\n",
              "      cursor: pointer;\n",
              "      display: none;\n",
              "      fill: #1967D2;\n",
              "      height: 32px;\n",
              "      padding: 0 0 0 0;\n",
              "      width: 32px;\n",
              "    }\n",
              "\n",
              "    .colab-df-convert:hover {\n",
              "      background-color: #E2EBFA;\n",
              "      box-shadow: 0px 1px 2px rgba(60, 64, 67, 0.3), 0px 1px 3px 1px rgba(60, 64, 67, 0.15);\n",
              "      fill: #174EA6;\n",
              "    }\n",
              "\n",
              "    [theme=dark] .colab-df-convert {\n",
              "      background-color: #3B4455;\n",
              "      fill: #D2E3FC;\n",
              "    }\n",
              "\n",
              "    [theme=dark] .colab-df-convert:hover {\n",
              "      background-color: #434B5C;\n",
              "      box-shadow: 0px 1px 3px 1px rgba(0, 0, 0, 0.15);\n",
              "      filter: drop-shadow(0px 1px 2px rgba(0, 0, 0, 0.3));\n",
              "      fill: #FFFFFF;\n",
              "    }\n",
              "  </style>\n",
              "\n",
              "      <script>\n",
              "        const buttonEl =\n",
              "          document.querySelector('#df-0ee1cf61-0ada-4fb9-bf38-af4d5c9fcf27 button.colab-df-convert');\n",
              "        buttonEl.style.display =\n",
              "          google.colab.kernel.accessAllowed ? 'block' : 'none';\n",
              "\n",
              "        async function convertToInteractive(key) {\n",
              "          const element = document.querySelector('#df-0ee1cf61-0ada-4fb9-bf38-af4d5c9fcf27');\n",
              "          const dataTable =\n",
              "            await google.colab.kernel.invokeFunction('convertToInteractive',\n",
              "                                                     [key], {});\n",
              "          if (!dataTable) return;\n",
              "\n",
              "          const docLinkHtml = 'Like what you see? Visit the ' +\n",
              "            '<a target=\"_blank\" href=https://colab.research.google.com/notebooks/data_table.ipynb>data table notebook</a>'\n",
              "            + ' to learn more about interactive tables.';\n",
              "          element.innerHTML = '';\n",
              "          dataTable['output_type'] = 'display_data';\n",
              "          await google.colab.output.renderOutput(dataTable, element);\n",
              "          const docLink = document.createElement('div');\n",
              "          docLink.innerHTML = docLinkHtml;\n",
              "          element.appendChild(docLink);\n",
              "        }\n",
              "      </script>\n",
              "    </div>\n",
              "  </div>\n",
              "  "
            ],
            "text/plain": [
              "       Review ID  Clothing ID  Age  ... Class Name Title Length  Review Length\n",
              "5056        8121          833   51  ...    Blouses           12             29\n",
              "10189      18717          829   28  ...    Blouses           12             55\n",
              "12433      10523         1110   63  ...    Dresses           12             93\n",
              "2060       18675         1068   65  ...      Pants           11             66\n",
              "11530      11042         1093   46  ...    Dresses           11             98\n",
              "\n",
              "[5 rows x 13 columns]"
            ]
          },
          "metadata": {},
          "execution_count": 153
        }
      ]
    },
    {
      "cell_type": "code",
      "source": [
        "df[df['Title Length'] > 0].sort_values('Title Length', ascending=True).head(10)"
      ],
      "metadata": {
        "id": "ZuCNeIWrvetn",
        "colab": {
          "base_uri": "https://localhost:8080/"
        },
        "outputId": "de506d96-3298-4f65-8dbb-3b70e508f057"
      },
      "execution_count": null,
      "outputs": [
        {
          "output_type": "execute_result",
          "data": {
            "text/html": [
              "\n",
              "  <div id=\"df-baa34e5d-b20e-45d2-97f7-7dfb25a3ae36\">\n",
              "    <div class=\"colab-df-container\">\n",
              "      <div>\n",
              "<style scoped>\n",
              "    .dataframe tbody tr th:only-of-type {\n",
              "        vertical-align: middle;\n",
              "    }\n",
              "\n",
              "    .dataframe tbody tr th {\n",
              "        vertical-align: top;\n",
              "    }\n",
              "\n",
              "    .dataframe thead th {\n",
              "        text-align: right;\n",
              "    }\n",
              "</style>\n",
              "<table border=\"1\" class=\"dataframe\">\n",
              "  <thead>\n",
              "    <tr style=\"text-align: right;\">\n",
              "      <th></th>\n",
              "      <th>Review ID</th>\n",
              "      <th>Clothing ID</th>\n",
              "      <th>Age</th>\n",
              "      <th>Title</th>\n",
              "      <th>Review Text</th>\n",
              "      <th>Rating</th>\n",
              "      <th>Recommended IND</th>\n",
              "      <th>Positive Feedback Count</th>\n",
              "      <th>Division Name</th>\n",
              "      <th>Department Name</th>\n",
              "      <th>Class Name</th>\n",
              "      <th>Title Length</th>\n",
              "      <th>Review Length</th>\n",
              "    </tr>\n",
              "  </thead>\n",
              "  <tbody>\n",
              "    <tr>\n",
              "      <th>4347</th>\n",
              "      <td>3263</td>\n",
              "      <td>1011</td>\n",
              "      <td>31</td>\n",
              "      <td>Feminine</td>\n",
              "      <td>I love the print and style of the skirt. it is...</td>\n",
              "      <td>4</td>\n",
              "      <td>1</td>\n",
              "      <td>0</td>\n",
              "      <td>General</td>\n",
              "      <td>Bottoms</td>\n",
              "      <td>Skirts</td>\n",
              "      <td>1</td>\n",
              "      <td>97</td>\n",
              "    </tr>\n",
              "    <tr>\n",
              "      <th>13636</th>\n",
              "      <td>18709</td>\n",
              "      <td>864</td>\n",
              "      <td>34</td>\n",
              "      <td>Love!</td>\n",
              "      <td>I wore this for the first time today and got s...</td>\n",
              "      <td>5</td>\n",
              "      <td>1</td>\n",
              "      <td>0</td>\n",
              "      <td>General</td>\n",
              "      <td>Tops</td>\n",
              "      <td>Knits</td>\n",
              "      <td>1</td>\n",
              "      <td>86</td>\n",
              "    </tr>\n",
              "    <tr>\n",
              "      <th>13225</th>\n",
              "      <td>16682</td>\n",
              "      <td>1110</td>\n",
              "      <td>33</td>\n",
              "      <td>Effortless!</td>\n",
              "      <td>I tried this on a whim during the sale with no...</td>\n",
              "      <td>5</td>\n",
              "      <td>1</td>\n",
              "      <td>1</td>\n",
              "      <td>General</td>\n",
              "      <td>Dresses</td>\n",
              "      <td>Dresses</td>\n",
              "      <td>1</td>\n",
              "      <td>102</td>\n",
              "    </tr>\n",
              "    <tr>\n",
              "      <th>9519</th>\n",
              "      <td>7067</td>\n",
              "      <td>862</td>\n",
              "      <td>50</td>\n",
              "      <td>Lightweight</td>\n",
              "      <td>This lift weight cardigan is true to size, per...</td>\n",
              "      <td>3</td>\n",
              "      <td>1</td>\n",
              "      <td>0</td>\n",
              "      <td>General</td>\n",
              "      <td>Tops</td>\n",
              "      <td>Knits</td>\n",
              "      <td>1</td>\n",
              "      <td>23</td>\n",
              "    </tr>\n",
              "    <tr>\n",
              "      <th>15565</th>\n",
              "      <td>17509</td>\n",
              "      <td>1086</td>\n",
              "      <td>26</td>\n",
              "      <td>Love!</td>\n",
              "      <td>I love this dress. i'm 6' so it's a tad bit sh...</td>\n",
              "      <td>4</td>\n",
              "      <td>1</td>\n",
              "      <td>1</td>\n",
              "      <td>General</td>\n",
              "      <td>Dresses</td>\n",
              "      <td>Dresses</td>\n",
              "      <td>1</td>\n",
              "      <td>70</td>\n",
              "    </tr>\n",
              "    <tr>\n",
              "      <th>1702</th>\n",
              "      <td>6171</td>\n",
              "      <td>873</td>\n",
              "      <td>48</td>\n",
              "      <td>Love</td>\n",
              "      <td>I am very petite and ordered the xs. it is too...</td>\n",
              "      <td>5</td>\n",
              "      <td>1</td>\n",
              "      <td>2</td>\n",
              "      <td>General</td>\n",
              "      <td>Tops</td>\n",
              "      <td>Knits</td>\n",
              "      <td>1</td>\n",
              "      <td>106</td>\n",
              "    </tr>\n",
              "    <tr>\n",
              "      <th>3473</th>\n",
              "      <td>18661</td>\n",
              "      <td>838</td>\n",
              "      <td>41</td>\n",
              "      <td>Oversized</td>\n",
              "      <td>This shirt fit really really big! i ordered an...</td>\n",
              "      <td>3</td>\n",
              "      <td>1</td>\n",
              "      <td>7</td>\n",
              "      <td>General Petite</td>\n",
              "      <td>Tops</td>\n",
              "      <td>Blouses</td>\n",
              "      <td>1</td>\n",
              "      <td>36</td>\n",
              "    </tr>\n",
              "    <tr>\n",
              "      <th>17991</th>\n",
              "      <td>15771</td>\n",
              "      <td>895</td>\n",
              "      <td>64</td>\n",
              "      <td>Crazy!</td>\n",
              "      <td>It's really crazy how much i like this sweater...</td>\n",
              "      <td>5</td>\n",
              "      <td>1</td>\n",
              "      <td>0</td>\n",
              "      <td>General Petite</td>\n",
              "      <td>Tops</td>\n",
              "      <td>Fine gauge</td>\n",
              "      <td>1</td>\n",
              "      <td>71</td>\n",
              "    </tr>\n",
              "    <tr>\n",
              "      <th>12114</th>\n",
              "      <td>5166</td>\n",
              "      <td>865</td>\n",
              "      <td>44</td>\n",
              "      <td>Perfect</td>\n",
              "      <td>This tank is perfect for summer since it pairs...</td>\n",
              "      <td>5</td>\n",
              "      <td>1</td>\n",
              "      <td>1</td>\n",
              "      <td>General</td>\n",
              "      <td>Tops</td>\n",
              "      <td>Knits</td>\n",
              "      <td>1</td>\n",
              "      <td>92</td>\n",
              "    </tr>\n",
              "    <tr>\n",
              "      <th>5381</th>\n",
              "      <td>2191</td>\n",
              "      <td>872</td>\n",
              "      <td>37</td>\n",
              "      <td>Amazing</td>\n",
              "      <td>This shirt looks and feels fabulous. i got bla...</td>\n",
              "      <td>5</td>\n",
              "      <td>1</td>\n",
              "      <td>0</td>\n",
              "      <td>General</td>\n",
              "      <td>Tops</td>\n",
              "      <td>Knits</td>\n",
              "      <td>1</td>\n",
              "      <td>25</td>\n",
              "    </tr>\n",
              "  </tbody>\n",
              "</table>\n",
              "</div>\n",
              "      <button class=\"colab-df-convert\" onclick=\"convertToInteractive('df-baa34e5d-b20e-45d2-97f7-7dfb25a3ae36')\"\n",
              "              title=\"Convert this dataframe to an interactive table.\"\n",
              "              style=\"display:none;\">\n",
              "        \n",
              "  <svg xmlns=\"http://www.w3.org/2000/svg\" height=\"24px\"viewBox=\"0 0 24 24\"\n",
              "       width=\"24px\">\n",
              "    <path d=\"M0 0h24v24H0V0z\" fill=\"none\"/>\n",
              "    <path d=\"M18.56 5.44l.94 2.06.94-2.06 2.06-.94-2.06-.94-.94-2.06-.94 2.06-2.06.94zm-11 1L8.5 8.5l.94-2.06 2.06-.94-2.06-.94L8.5 2.5l-.94 2.06-2.06.94zm10 10l.94 2.06.94-2.06 2.06-.94-2.06-.94-.94-2.06-.94 2.06-2.06.94z\"/><path d=\"M17.41 7.96l-1.37-1.37c-.4-.4-.92-.59-1.43-.59-.52 0-1.04.2-1.43.59L10.3 9.45l-7.72 7.72c-.78.78-.78 2.05 0 2.83L4 21.41c.39.39.9.59 1.41.59.51 0 1.02-.2 1.41-.59l7.78-7.78 2.81-2.81c.8-.78.8-2.07 0-2.86zM5.41 20L4 18.59l7.72-7.72 1.47 1.35L5.41 20z\"/>\n",
              "  </svg>\n",
              "      </button>\n",
              "      \n",
              "  <style>\n",
              "    .colab-df-container {\n",
              "      display:flex;\n",
              "      flex-wrap:wrap;\n",
              "      gap: 12px;\n",
              "    }\n",
              "\n",
              "    .colab-df-convert {\n",
              "      background-color: #E8F0FE;\n",
              "      border: none;\n",
              "      border-radius: 50%;\n",
              "      cursor: pointer;\n",
              "      display: none;\n",
              "      fill: #1967D2;\n",
              "      height: 32px;\n",
              "      padding: 0 0 0 0;\n",
              "      width: 32px;\n",
              "    }\n",
              "\n",
              "    .colab-df-convert:hover {\n",
              "      background-color: #E2EBFA;\n",
              "      box-shadow: 0px 1px 2px rgba(60, 64, 67, 0.3), 0px 1px 3px 1px rgba(60, 64, 67, 0.15);\n",
              "      fill: #174EA6;\n",
              "    }\n",
              "\n",
              "    [theme=dark] .colab-df-convert {\n",
              "      background-color: #3B4455;\n",
              "      fill: #D2E3FC;\n",
              "    }\n",
              "\n",
              "    [theme=dark] .colab-df-convert:hover {\n",
              "      background-color: #434B5C;\n",
              "      box-shadow: 0px 1px 3px 1px rgba(0, 0, 0, 0.15);\n",
              "      filter: drop-shadow(0px 1px 2px rgba(0, 0, 0, 0.3));\n",
              "      fill: #FFFFFF;\n",
              "    }\n",
              "  </style>\n",
              "\n",
              "      <script>\n",
              "        const buttonEl =\n",
              "          document.querySelector('#df-baa34e5d-b20e-45d2-97f7-7dfb25a3ae36 button.colab-df-convert');\n",
              "        buttonEl.style.display =\n",
              "          google.colab.kernel.accessAllowed ? 'block' : 'none';\n",
              "\n",
              "        async function convertToInteractive(key) {\n",
              "          const element = document.querySelector('#df-baa34e5d-b20e-45d2-97f7-7dfb25a3ae36');\n",
              "          const dataTable =\n",
              "            await google.colab.kernel.invokeFunction('convertToInteractive',\n",
              "                                                     [key], {});\n",
              "          if (!dataTable) return;\n",
              "\n",
              "          const docLinkHtml = 'Like what you see? Visit the ' +\n",
              "            '<a target=\"_blank\" href=https://colab.research.google.com/notebooks/data_table.ipynb>data table notebook</a>'\n",
              "            + ' to learn more about interactive tables.';\n",
              "          element.innerHTML = '';\n",
              "          dataTable['output_type'] = 'display_data';\n",
              "          await google.colab.output.renderOutput(dataTable, element);\n",
              "          const docLink = document.createElement('div');\n",
              "          docLink.innerHTML = docLinkHtml;\n",
              "          element.appendChild(docLink);\n",
              "        }\n",
              "      </script>\n",
              "    </div>\n",
              "  </div>\n",
              "  "
            ],
            "text/plain": [
              "       Review ID  Clothing ID  Age  ...  Class Name Title Length  Review Length\n",
              "4347        3263         1011   31  ...      Skirts            1             97\n",
              "13636      18709          864   34  ...       Knits            1             86\n",
              "13225      16682         1110   33  ...     Dresses            1            102\n",
              "9519        7067          862   50  ...       Knits            1             23\n",
              "15565      17509         1086   26  ...     Dresses            1             70\n",
              "1702        6171          873   48  ...       Knits            1            106\n",
              "3473       18661          838   41  ...     Blouses            1             36\n",
              "17991      15771          895   64  ...  Fine gauge            1             71\n",
              "12114       5166          865   44  ...       Knits            1             92\n",
              "5381        2191          872   37  ...       Knits            1             25\n",
              "\n",
              "[10 rows x 13 columns]"
            ]
          },
          "metadata": {},
          "execution_count": 154
        }
      ]
    },
    {
      "cell_type": "markdown",
      "source": [
        "💡 No insights from Title Length"
      ],
      "metadata": {
        "id": "mk7tLPvzweNI"
      }
    },
    {
      "cell_type": "code",
      "source": [
        "data_table.enable_dataframe_formatter()\n",
        "df.sort_values('Review Length', ascending=False).head()"
      ],
      "metadata": {
        "colab": {
          "base_uri": "https://localhost:8080/"
        },
        "id": "Ae_LQQ4owJ9D",
        "outputId": "742162a1-7885-40ec-da5d-a87eb26304ec"
      },
      "execution_count": null,
      "outputs": [
        {
          "output_type": "execute_result",
          "data": {
            "application/vnd.google.colaboratory.module+javascript": "\n      import \"https://ssl.gstatic.com/colaboratory/data_table/81f25a011006ed3d/data_table.js\";\n\n      window.createDataTable({\n        data: [[{\n            'v': 1074,\n            'f': \"1074\",\n        },\n{\n            'v': 16880,\n            'f': \"16880\",\n        },\n{\n            'v': 834,\n            'f': \"834\",\n        },\n{\n            'v': 63,\n            'f': \"63\",\n        },\n\"\",\n\"I love maeve tops. i love the material and feel of this brand. when i saw the new tops that came out i ran to my local store to try one on. i'm usually a large in a top, once in a while an xl. they only had a large to try so i tried it in the black motif. i could barely get the top on. it looked like i was missing 1/2 of the top. i doubled checked the size and it was a large. it's a shame, the top is really cute. if you are the least bit broad or busty, go up a size or two. if you are usually a\",\n{\n            'v': 3,\n            'f': \"3\",\n        },\n{\n            'v': 0,\n            'f': \"0\",\n        },\n{\n            'v': 3,\n            'f': \"3\",\n        },\n\"General\",\n\"Tops\",\n\"Blouses\",\n{\n            'v': 0,\n            'f': \"0\",\n        },\n{\n            'v': 115,\n            'f': \"115\",\n        }],\n [{\n            'v': 11277,\n            'f': \"11277\",\n        },\n{\n            'v': 12731,\n            'f': \"12731\",\n        },\n{\n            'v': 1110,\n            'f': \"1110\",\n        },\n{\n            'v': 49,\n            'f': \"49\",\n        },\n\"Couldn't wait to see this in person!\",\n\"I had my eye on this dress since it fist came out, but hesitated to order due to some of the lower reviews. when i got a chance to try it on - i loved it! i did go up a size. i am 5'5\\\" so i had it shortened to above the knee, i didn't mind losing the unfinished hem - had the hem match that of the pockets. i am a 34c but the bodice is stable and even if i pull at it, it stays put! so happy to find this, especially on sale! i plan to wear it at our company party which is help on a large charter bo\",\n{\n            'v': 5,\n            'f': \"5\",\n        },\n{\n            'v': 1,\n            'f': \"1\",\n        },\n{\n            'v': 1,\n            'f': \"1\",\n        },\n\"General\",\n\"Dresses\",\n\"Dresses\",\n{\n            'v': 7,\n            'f': \"7\",\n        },\n{\n            'v': 114,\n            'f': \"114\",\n        }],\n [{\n            'v': 11060,\n            'f': \"11060\",\n        },\n{\n            'v': 15508,\n            'f': \"15508\",\n        },\n{\n            'v': 1099,\n            'f': \"1099\",\n        },\n{\n            'v': 43,\n            'f': \"43\",\n        },\n\"Romantic and pretty\",\n\"I was walking to the fitting room and i saw two of this dress on a rack- an xs and small. i could tell by looking at it that it runs small, so i grabbed a small to try on. i didn't want to love this dress (it's expensive), but i did. it is so pretty and flattering. i wish it were an inch or two longer, but it's ok. with tights in the fall will be fine. not sure i would wear this to work, as i am a teacher and it is too short for me. it definitely runs small. i am between a 2 and a 4, so i took t\",\n{\n            'v': 5,\n            'f': \"5\",\n        },\n{\n            'v': 1,\n            'f': \"1\",\n        },\n{\n            'v': 5,\n            'f': \"5\",\n        },\n\"General Petite\",\n\"Dresses\",\n\"Dresses\",\n{\n            'v': 3,\n            'f': \"3\",\n        },\n{\n            'v': 114,\n            'f': \"114\",\n        }],\n [{\n            'v': 4789,\n            'f': \"4789\",\n        },\n{\n            'v': 13361,\n            'f': \"13361\",\n        },\n{\n            'v': 975,\n            'f': \"975\",\n        },\n{\n            'v': 54,\n            'f': \"54\",\n        },\n\"Pleasant surprise!\",\n\"This outfit was online for months with no review so i was skeptical to order but very glad i did as it is better in person. it is beautiful, high quality tommy bahama inspired suit. i am 55 so short shorts are risky even though i am a typical size 4 or 6. i took a 4 in the blazer and i am typically a high 4 or low 6 in size so i would say the blazer is very true to size. i took the size 8 in the shorts as i felt they ran small and i wanted the extra length. they ride a bit lower on my waist an\",\n{\n            'v': 5,\n            'f': \"5\",\n        },\n{\n            'v': 1,\n            'f': \"1\",\n        },\n{\n            'v': 1,\n            'f': \"1\",\n        },\n\"General Petite\",\n\"Jackets\",\n\"Jackets\",\n{\n            'v': 2,\n            'f': \"2\",\n        },\n{\n            'v': 112,\n            'f': \"112\",\n        }],\n [{\n            'v': 13874,\n            'f': \"13874\",\n        },\n{\n            'v': 6697,\n            'f': \"6697\",\n        },\n{\n            'v': 865,\n            'f': \"865\",\n        },\n{\n            'v': 53,\n            'f': \"53\",\n        },\n\"Odd fit, beautiful design but poor execution\",\n\"I wanted to love this blouse so much. but try as i might, it just fit so oddly on me. i'm usually a petite s so i purchased the xs in brown. first. the color was more gray-brown but it was still ok. but second, the fit was off. maybe i just got a bad one, but the center of the blouse was so offset, that the slit in the front laid so far to the left and the v-neck was so low that you could see my bra - there was no adjusting i could do to fix it. the material has a lovely soft silky feel to it an\",\n{\n            'v': 1,\n            'f': \"1\",\n        },\n{\n            'v': 0,\n            'f': \"0\",\n        },\n{\n            'v': 7,\n            'f': \"7\",\n        },\n\"General\",\n\"Tops\",\n\"Knits\",\n{\n            'v': 7,\n            'f': \"7\",\n        },\n{\n            'v': 111,\n            'f': \"111\",\n        }]],\n        columns: [[\"number\", \"index\"], [\"number\", \"Review ID\"], [\"number\", \"Clothing ID\"], [\"number\", \"Age\"], [\"string\", \"Title\"], [\"string\", \"Review Text\"], [\"number\", \"Rating\"], [\"number\", \"Recommended IND\"], [\"number\", \"Positive Feedback Count\"], [\"string\", \"Division Name\"], [\"string\", \"Department Name\"], [\"string\", \"Class Name\"], [\"number\", \"Title Length\"], [\"number\", \"Review Length\"]],\n        columnOptions: [{\"width\": \"1px\", \"className\": \"index_column\"}],\n        rowsPerPage: 25,\n        helpUrl: \"https://colab.research.google.com/notebooks/data_table.ipynb\",\n        suppressOutputScrolling: true,\n        minimumWidth: undefined,\n      });\n    ",
            "text/html": [
              "\n",
              "  <div id=\"df-8470ad07-96c8-40f3-8d0e-990a09018f42\">\n",
              "    <div class=\"colab-df-container\">\n",
              "      <div>\n",
              "<style scoped>\n",
              "    .dataframe tbody tr th:only-of-type {\n",
              "        vertical-align: middle;\n",
              "    }\n",
              "\n",
              "    .dataframe tbody tr th {\n",
              "        vertical-align: top;\n",
              "    }\n",
              "\n",
              "    .dataframe thead th {\n",
              "        text-align: right;\n",
              "    }\n",
              "</style>\n",
              "<table border=\"1\" class=\"dataframe\">\n",
              "  <thead>\n",
              "    <tr style=\"text-align: right;\">\n",
              "      <th></th>\n",
              "      <th>Review ID</th>\n",
              "      <th>Clothing ID</th>\n",
              "      <th>Age</th>\n",
              "      <th>Title</th>\n",
              "      <th>Review Text</th>\n",
              "      <th>Rating</th>\n",
              "      <th>Recommended IND</th>\n",
              "      <th>Positive Feedback Count</th>\n",
              "      <th>Division Name</th>\n",
              "      <th>Department Name</th>\n",
              "      <th>Class Name</th>\n",
              "      <th>Title Length</th>\n",
              "      <th>Review Length</th>\n",
              "    </tr>\n",
              "  </thead>\n",
              "  <tbody>\n",
              "    <tr>\n",
              "      <th>1074</th>\n",
              "      <td>16880</td>\n",
              "      <td>834</td>\n",
              "      <td>63</td>\n",
              "      <td></td>\n",
              "      <td>I love maeve tops. i love the material and fee...</td>\n",
              "      <td>3</td>\n",
              "      <td>0</td>\n",
              "      <td>3</td>\n",
              "      <td>General</td>\n",
              "      <td>Tops</td>\n",
              "      <td>Blouses</td>\n",
              "      <td>0</td>\n",
              "      <td>115</td>\n",
              "    </tr>\n",
              "    <tr>\n",
              "      <th>11277</th>\n",
              "      <td>12731</td>\n",
              "      <td>1110</td>\n",
              "      <td>49</td>\n",
              "      <td>Couldn't wait to see this in person!</td>\n",
              "      <td>I had my eye on this dress since it fist came ...</td>\n",
              "      <td>5</td>\n",
              "      <td>1</td>\n",
              "      <td>1</td>\n",
              "      <td>General</td>\n",
              "      <td>Dresses</td>\n",
              "      <td>Dresses</td>\n",
              "      <td>7</td>\n",
              "      <td>114</td>\n",
              "    </tr>\n",
              "    <tr>\n",
              "      <th>11060</th>\n",
              "      <td>15508</td>\n",
              "      <td>1099</td>\n",
              "      <td>43</td>\n",
              "      <td>Romantic and pretty</td>\n",
              "      <td>I was walking to the fitting room and i saw tw...</td>\n",
              "      <td>5</td>\n",
              "      <td>1</td>\n",
              "      <td>5</td>\n",
              "      <td>General Petite</td>\n",
              "      <td>Dresses</td>\n",
              "      <td>Dresses</td>\n",
              "      <td>3</td>\n",
              "      <td>114</td>\n",
              "    </tr>\n",
              "    <tr>\n",
              "      <th>4789</th>\n",
              "      <td>13361</td>\n",
              "      <td>975</td>\n",
              "      <td>54</td>\n",
              "      <td>Pleasant surprise!</td>\n",
              "      <td>This outfit was online for months with no revi...</td>\n",
              "      <td>5</td>\n",
              "      <td>1</td>\n",
              "      <td>1</td>\n",
              "      <td>General Petite</td>\n",
              "      <td>Jackets</td>\n",
              "      <td>Jackets</td>\n",
              "      <td>2</td>\n",
              "      <td>112</td>\n",
              "    </tr>\n",
              "    <tr>\n",
              "      <th>13874</th>\n",
              "      <td>6697</td>\n",
              "      <td>865</td>\n",
              "      <td>53</td>\n",
              "      <td>Odd fit, beautiful design but poor execution</td>\n",
              "      <td>I wanted to love this blouse so much. but try ...</td>\n",
              "      <td>1</td>\n",
              "      <td>0</td>\n",
              "      <td>7</td>\n",
              "      <td>General</td>\n",
              "      <td>Tops</td>\n",
              "      <td>Knits</td>\n",
              "      <td>7</td>\n",
              "      <td>111</td>\n",
              "    </tr>\n",
              "  </tbody>\n",
              "</table>\n",
              "</div>\n",
              "      <button class=\"colab-df-convert\" onclick=\"convertToInteractive('df-8470ad07-96c8-40f3-8d0e-990a09018f42')\"\n",
              "              title=\"Convert this dataframe to an interactive table.\"\n",
              "              style=\"display:none;\">\n",
              "        \n",
              "  <svg xmlns=\"http://www.w3.org/2000/svg\" height=\"24px\"viewBox=\"0 0 24 24\"\n",
              "       width=\"24px\">\n",
              "    <path d=\"M0 0h24v24H0V0z\" fill=\"none\"/>\n",
              "    <path d=\"M18.56 5.44l.94 2.06.94-2.06 2.06-.94-2.06-.94-.94-2.06-.94 2.06-2.06.94zm-11 1L8.5 8.5l.94-2.06 2.06-.94-2.06-.94L8.5 2.5l-.94 2.06-2.06.94zm10 10l.94 2.06.94-2.06 2.06-.94-2.06-.94-.94-2.06-.94 2.06-2.06.94z\"/><path d=\"M17.41 7.96l-1.37-1.37c-.4-.4-.92-.59-1.43-.59-.52 0-1.04.2-1.43.59L10.3 9.45l-7.72 7.72c-.78.78-.78 2.05 0 2.83L4 21.41c.39.39.9.59 1.41.59.51 0 1.02-.2 1.41-.59l7.78-7.78 2.81-2.81c.8-.78.8-2.07 0-2.86zM5.41 20L4 18.59l7.72-7.72 1.47 1.35L5.41 20z\"/>\n",
              "  </svg>\n",
              "      </button>\n",
              "      \n",
              "  <style>\n",
              "    .colab-df-container {\n",
              "      display:flex;\n",
              "      flex-wrap:wrap;\n",
              "      gap: 12px;\n",
              "    }\n",
              "\n",
              "    .colab-df-convert {\n",
              "      background-color: #E8F0FE;\n",
              "      border: none;\n",
              "      border-radius: 50%;\n",
              "      cursor: pointer;\n",
              "      display: none;\n",
              "      fill: #1967D2;\n",
              "      height: 32px;\n",
              "      padding: 0 0 0 0;\n",
              "      width: 32px;\n",
              "    }\n",
              "\n",
              "    .colab-df-convert:hover {\n",
              "      background-color: #E2EBFA;\n",
              "      box-shadow: 0px 1px 2px rgba(60, 64, 67, 0.3), 0px 1px 3px 1px rgba(60, 64, 67, 0.15);\n",
              "      fill: #174EA6;\n",
              "    }\n",
              "\n",
              "    [theme=dark] .colab-df-convert {\n",
              "      background-color: #3B4455;\n",
              "      fill: #D2E3FC;\n",
              "    }\n",
              "\n",
              "    [theme=dark] .colab-df-convert:hover {\n",
              "      background-color: #434B5C;\n",
              "      box-shadow: 0px 1px 3px 1px rgba(0, 0, 0, 0.15);\n",
              "      filter: drop-shadow(0px 1px 2px rgba(0, 0, 0, 0.3));\n",
              "      fill: #FFFFFF;\n",
              "    }\n",
              "  </style>\n",
              "\n",
              "      <script>\n",
              "        const buttonEl =\n",
              "          document.querySelector('#df-8470ad07-96c8-40f3-8d0e-990a09018f42 button.colab-df-convert');\n",
              "        buttonEl.style.display =\n",
              "          google.colab.kernel.accessAllowed ? 'block' : 'none';\n",
              "\n",
              "        async function convertToInteractive(key) {\n",
              "          const element = document.querySelector('#df-8470ad07-96c8-40f3-8d0e-990a09018f42');\n",
              "          const dataTable =\n",
              "            await google.colab.kernel.invokeFunction('convertToInteractive',\n",
              "                                                     [key], {});\n",
              "          if (!dataTable) return;\n",
              "\n",
              "          const docLinkHtml = 'Like what you see? Visit the ' +\n",
              "            '<a target=\"_blank\" href=https://colab.research.google.com/notebooks/data_table.ipynb>data table notebook</a>'\n",
              "            + ' to learn more about interactive tables.';\n",
              "          element.innerHTML = '';\n",
              "          dataTable['output_type'] = 'display_data';\n",
              "          await google.colab.output.renderOutput(dataTable, element);\n",
              "          const docLink = document.createElement('div');\n",
              "          docLink.innerHTML = docLinkHtml;\n",
              "          element.appendChild(docLink);\n",
              "        }\n",
              "      </script>\n",
              "    </div>\n",
              "  </div>\n",
              "  "
            ],
            "text/plain": [
              "       Review ID  Clothing ID  Age  ... Class Name Title Length  Review Length\n",
              "1074       16880          834   63  ...    Blouses            0            115\n",
              "11277      12731         1110   49  ...    Dresses            7            114\n",
              "11060      15508         1099   43  ...    Dresses            3            114\n",
              "4789       13361          975   54  ...    Jackets            2            112\n",
              "13874       6697          865   53  ...      Knits            7            111\n",
              "\n",
              "[5 rows x 13 columns]"
            ]
          },
          "metadata": {},
          "execution_count": 155
        }
      ]
    },
    {
      "cell_type": "markdown",
      "source": [
        "💡 Seems like longest reviews are truncated :/ also in original file :("
      ],
      "metadata": {
        "id": "ohyV7wGqwUvg"
      }
    },
    {
      "cell_type": "code",
      "source": [
        "data_table.disable_dataframe_formatter()\n",
        "df.sort_values('Review Length', ascending=True).head(10)"
      ],
      "metadata": {
        "colab": {
          "base_uri": "https://localhost:8080/"
        },
        "id": "9BpUyhUPwYEQ",
        "outputId": "3ebc621a-e03c-49f6-f9d2-ea4f4234935b"
      },
      "execution_count": null,
      "outputs": [
        {
          "output_type": "execute_result",
          "data": {
            "text/html": [
              "\n",
              "  <div id=\"df-8bee5a4a-e3a7-440d-8eeb-55cc66216c0c\">\n",
              "    <div class=\"colab-df-container\">\n",
              "      <div>\n",
              "<style scoped>\n",
              "    .dataframe tbody tr th:only-of-type {\n",
              "        vertical-align: middle;\n",
              "    }\n",
              "\n",
              "    .dataframe tbody tr th {\n",
              "        vertical-align: top;\n",
              "    }\n",
              "\n",
              "    .dataframe thead th {\n",
              "        text-align: right;\n",
              "    }\n",
              "</style>\n",
              "<table border=\"1\" class=\"dataframe\">\n",
              "  <thead>\n",
              "    <tr style=\"text-align: right;\">\n",
              "      <th></th>\n",
              "      <th>Review ID</th>\n",
              "      <th>Clothing ID</th>\n",
              "      <th>Age</th>\n",
              "      <th>Title</th>\n",
              "      <th>Review Text</th>\n",
              "      <th>Rating</th>\n",
              "      <th>Recommended IND</th>\n",
              "      <th>Positive Feedback Count</th>\n",
              "      <th>Division Name</th>\n",
              "      <th>Department Name</th>\n",
              "      <th>Class Name</th>\n",
              "      <th>Title Length</th>\n",
              "      <th>Review Length</th>\n",
              "    </tr>\n",
              "  </thead>\n",
              "  <tbody>\n",
              "    <tr>\n",
              "      <th>18689</th>\n",
              "      <td>859</td>\n",
              "      <td>886</td>\n",
              "      <td>27</td>\n",
              "      <td></td>\n",
              "      <td>Great style!</td>\n",
              "      <td>5</td>\n",
              "      <td>1</td>\n",
              "      <td>1</td>\n",
              "      <td>General Petite</td>\n",
              "      <td>Tops</td>\n",
              "      <td>Knits</td>\n",
              "      <td>0</td>\n",
              "      <td>2</td>\n",
              "    </tr>\n",
              "    <tr>\n",
              "      <th>10704</th>\n",
              "      <td>13399</td>\n",
              "      <td>927</td>\n",
              "      <td>36</td>\n",
              "      <td>Buy this!</td>\n",
              "      <td>Fits perfect!</td>\n",
              "      <td>5</td>\n",
              "      <td>1</td>\n",
              "      <td>0</td>\n",
              "      <td>General Petite</td>\n",
              "      <td>Tops</td>\n",
              "      <td>Sweaters</td>\n",
              "      <td>2</td>\n",
              "      <td>2</td>\n",
              "    </tr>\n",
              "    <tr>\n",
              "      <th>2136</th>\n",
              "      <td>11518</td>\n",
              "      <td>1066</td>\n",
              "      <td>21</td>\n",
              "      <td>Beautiful pant</td>\n",
              "      <td>Great structure</td>\n",
              "      <td>5</td>\n",
              "      <td>1</td>\n",
              "      <td>0</td>\n",
              "      <td>General Petite</td>\n",
              "      <td>Bottoms</td>\n",
              "      <td>Pants</td>\n",
              "      <td>2</td>\n",
              "      <td>2</td>\n",
              "    </tr>\n",
              "    <tr>\n",
              "      <th>18059</th>\n",
              "      <td>7785</td>\n",
              "      <td>820</td>\n",
              "      <td>50</td>\n",
              "      <td>Another beautiful white top</td>\n",
              "      <td>Great fit</td>\n",
              "      <td>5</td>\n",
              "      <td>1</td>\n",
              "      <td>0</td>\n",
              "      <td>General Petite</td>\n",
              "      <td>Tops</td>\n",
              "      <td>Blouses</td>\n",
              "      <td>4</td>\n",
              "      <td>2</td>\n",
              "    </tr>\n",
              "    <tr>\n",
              "      <th>2359</th>\n",
              "      <td>15653</td>\n",
              "      <td>1089</td>\n",
              "      <td>29</td>\n",
              "      <td>Perfect bride dress</td>\n",
              "      <td>Fits perfect.</td>\n",
              "      <td>5</td>\n",
              "      <td>1</td>\n",
              "      <td>0</td>\n",
              "      <td>General</td>\n",
              "      <td>Dresses</td>\n",
              "      <td>Dresses</td>\n",
              "      <td>3</td>\n",
              "      <td>2</td>\n",
              "    </tr>\n",
              "    <tr>\n",
              "      <th>7258</th>\n",
              "      <td>17317</td>\n",
              "      <td>1022</td>\n",
              "      <td>60</td>\n",
              "      <td>Comfy yer dressy</td>\n",
              "      <td>Love these jeans.</td>\n",
              "      <td>5</td>\n",
              "      <td>1</td>\n",
              "      <td>0</td>\n",
              "      <td>General</td>\n",
              "      <td>Bottoms</td>\n",
              "      <td>Jeans</td>\n",
              "      <td>3</td>\n",
              "      <td>3</td>\n",
              "    </tr>\n",
              "    <tr>\n",
              "      <th>6367</th>\n",
              "      <td>5925</td>\n",
              "      <td>862</td>\n",
              "      <td>55</td>\n",
              "      <td></td>\n",
              "      <td>Beautiful and delicate!!</td>\n",
              "      <td>5</td>\n",
              "      <td>1</td>\n",
              "      <td>3</td>\n",
              "      <td>General</td>\n",
              "      <td>Tops</td>\n",
              "      <td>Knits</td>\n",
              "      <td>0</td>\n",
              "      <td>3</td>\n",
              "    </tr>\n",
              "    <tr>\n",
              "      <th>9696</th>\n",
              "      <td>7521</td>\n",
              "      <td>941</td>\n",
              "      <td>54</td>\n",
              "      <td>Great pullover !</td>\n",
              "      <td>Soft and sweet</td>\n",
              "      <td>5</td>\n",
              "      <td>1</td>\n",
              "      <td>0</td>\n",
              "      <td>General Petite</td>\n",
              "      <td>Tops</td>\n",
              "      <td>Sweaters</td>\n",
              "      <td>3</td>\n",
              "      <td>3</td>\n",
              "    </tr>\n",
              "    <tr>\n",
              "      <th>17710</th>\n",
              "      <td>9121</td>\n",
              "      <td>414</td>\n",
              "      <td>61</td>\n",
              "      <td></td>\n",
              "      <td>Very pretty, romantic</td>\n",
              "      <td>3</td>\n",
              "      <td>0</td>\n",
              "      <td>3</td>\n",
              "      <td>Initmates</td>\n",
              "      <td>Intimate</td>\n",
              "      <td>Sleep</td>\n",
              "      <td>0</td>\n",
              "      <td>3</td>\n",
              "    </tr>\n",
              "    <tr>\n",
              "      <th>14177</th>\n",
              "      <td>23041</td>\n",
              "      <td>687</td>\n",
              "      <td>30</td>\n",
              "      <td>A little short</td>\n",
              "      <td>Overall very pretty.</td>\n",
              "      <td>5</td>\n",
              "      <td>1</td>\n",
              "      <td>1</td>\n",
              "      <td>Initmates</td>\n",
              "      <td>Intimate</td>\n",
              "      <td>Intimates</td>\n",
              "      <td>3</td>\n",
              "      <td>3</td>\n",
              "    </tr>\n",
              "  </tbody>\n",
              "</table>\n",
              "</div>\n",
              "      <button class=\"colab-df-convert\" onclick=\"convertToInteractive('df-8bee5a4a-e3a7-440d-8eeb-55cc66216c0c')\"\n",
              "              title=\"Convert this dataframe to an interactive table.\"\n",
              "              style=\"display:none;\">\n",
              "        \n",
              "  <svg xmlns=\"http://www.w3.org/2000/svg\" height=\"24px\"viewBox=\"0 0 24 24\"\n",
              "       width=\"24px\">\n",
              "    <path d=\"M0 0h24v24H0V0z\" fill=\"none\"/>\n",
              "    <path d=\"M18.56 5.44l.94 2.06.94-2.06 2.06-.94-2.06-.94-.94-2.06-.94 2.06-2.06.94zm-11 1L8.5 8.5l.94-2.06 2.06-.94-2.06-.94L8.5 2.5l-.94 2.06-2.06.94zm10 10l.94 2.06.94-2.06 2.06-.94-2.06-.94-.94-2.06-.94 2.06-2.06.94z\"/><path d=\"M17.41 7.96l-1.37-1.37c-.4-.4-.92-.59-1.43-.59-.52 0-1.04.2-1.43.59L10.3 9.45l-7.72 7.72c-.78.78-.78 2.05 0 2.83L4 21.41c.39.39.9.59 1.41.59.51 0 1.02-.2 1.41-.59l7.78-7.78 2.81-2.81c.8-.78.8-2.07 0-2.86zM5.41 20L4 18.59l7.72-7.72 1.47 1.35L5.41 20z\"/>\n",
              "  </svg>\n",
              "      </button>\n",
              "      \n",
              "  <style>\n",
              "    .colab-df-container {\n",
              "      display:flex;\n",
              "      flex-wrap:wrap;\n",
              "      gap: 12px;\n",
              "    }\n",
              "\n",
              "    .colab-df-convert {\n",
              "      background-color: #E8F0FE;\n",
              "      border: none;\n",
              "      border-radius: 50%;\n",
              "      cursor: pointer;\n",
              "      display: none;\n",
              "      fill: #1967D2;\n",
              "      height: 32px;\n",
              "      padding: 0 0 0 0;\n",
              "      width: 32px;\n",
              "    }\n",
              "\n",
              "    .colab-df-convert:hover {\n",
              "      background-color: #E2EBFA;\n",
              "      box-shadow: 0px 1px 2px rgba(60, 64, 67, 0.3), 0px 1px 3px 1px rgba(60, 64, 67, 0.15);\n",
              "      fill: #174EA6;\n",
              "    }\n",
              "\n",
              "    [theme=dark] .colab-df-convert {\n",
              "      background-color: #3B4455;\n",
              "      fill: #D2E3FC;\n",
              "    }\n",
              "\n",
              "    [theme=dark] .colab-df-convert:hover {\n",
              "      background-color: #434B5C;\n",
              "      box-shadow: 0px 1px 3px 1px rgba(0, 0, 0, 0.15);\n",
              "      filter: drop-shadow(0px 1px 2px rgba(0, 0, 0, 0.3));\n",
              "      fill: #FFFFFF;\n",
              "    }\n",
              "  </style>\n",
              "\n",
              "      <script>\n",
              "        const buttonEl =\n",
              "          document.querySelector('#df-8bee5a4a-e3a7-440d-8eeb-55cc66216c0c button.colab-df-convert');\n",
              "        buttonEl.style.display =\n",
              "          google.colab.kernel.accessAllowed ? 'block' : 'none';\n",
              "\n",
              "        async function convertToInteractive(key) {\n",
              "          const element = document.querySelector('#df-8bee5a4a-e3a7-440d-8eeb-55cc66216c0c');\n",
              "          const dataTable =\n",
              "            await google.colab.kernel.invokeFunction('convertToInteractive',\n",
              "                                                     [key], {});\n",
              "          if (!dataTable) return;\n",
              "\n",
              "          const docLinkHtml = 'Like what you see? Visit the ' +\n",
              "            '<a target=\"_blank\" href=https://colab.research.google.com/notebooks/data_table.ipynb>data table notebook</a>'\n",
              "            + ' to learn more about interactive tables.';\n",
              "          element.innerHTML = '';\n",
              "          dataTable['output_type'] = 'display_data';\n",
              "          await google.colab.output.renderOutput(dataTable, element);\n",
              "          const docLink = document.createElement('div');\n",
              "          docLink.innerHTML = docLinkHtml;\n",
              "          element.appendChild(docLink);\n",
              "        }\n",
              "      </script>\n",
              "    </div>\n",
              "  </div>\n",
              "  "
            ],
            "text/plain": [
              "       Review ID  Clothing ID  Age  ... Class Name Title Length  Review Length\n",
              "18689        859          886   27  ...      Knits            0              2\n",
              "10704      13399          927   36  ...   Sweaters            2              2\n",
              "2136       11518         1066   21  ...      Pants            2              2\n",
              "18059       7785          820   50  ...    Blouses            4              2\n",
              "2359       15653         1089   29  ...    Dresses            3              2\n",
              "7258       17317         1022   60  ...      Jeans            3              3\n",
              "6367        5925          862   55  ...      Knits            0              3\n",
              "9696        7521          941   54  ...   Sweaters            3              3\n",
              "17710       9121          414   61  ...      Sleep            0              3\n",
              "14177      23041          687   30  ...  Intimates            3              3\n",
              "\n",
              "[10 rows x 13 columns]"
            ]
          },
          "metadata": {},
          "execution_count": 156
        }
      ]
    },
    {
      "cell_type": "markdown",
      "source": [
        "💡 Review is 'Very pretty, romantic' and rating is 3 :/ "
      ],
      "metadata": {
        "id": "dLGFI_7rxLdI"
      }
    },
    {
      "cell_type": "markdown",
      "source": [
        "# Fix potential HTML"
      ],
      "metadata": {
        "id": "0kT-VaS066u0"
      }
    },
    {
      "cell_type": "code",
      "source": [
        "df['Review Text'] = df['Review Text'].apply(lambda x: BeautifulSoup(x).get_text(separator=' ')) \n",
        "df['Title'] = df['Title'].apply(lambda x: BeautifulSoup(x).get_text(separator=' ')) "
      ],
      "metadata": {
        "id": "gTg5J-Ia69TP"
      },
      "execution_count": null,
      "outputs": []
    },
    {
      "cell_type": "markdown",
      "source": [
        "# Check unwanted characters"
      ],
      "metadata": {
        "id": "QhlupnBqtaxu"
      }
    },
    {
      "cell_type": "code",
      "source": [
        "characters = ['#', '&', '@', '_']\n",
        "for c in characters:\n",
        "  print(c, df['Review Text'].str.contains(c).sum())"
      ],
      "metadata": {
        "colab": {
          "base_uri": "https://localhost:8080/"
        },
        "id": "ClwtjOl-38hz",
        "outputId": "1f8461ff-5893-44fb-b676-874c46b3096f"
      },
      "execution_count": null,
      "outputs": [
        {
          "output_type": "stream",
          "name": "stdout",
          "text": [
            "# 246\n",
            "& 455\n",
            "@ 6\n",
            "_ 36\n"
          ]
        }
      ]
    },
    {
      "cell_type": "code",
      "source": [
        "for x in df[df['Review Text'].str.contains('@')]['Review Text'][:10]:\n",
        "  print(x)\n",
        "  print('--------------------------------------')"
      ],
      "metadata": {
        "colab": {
          "base_uri": "https://localhost:8080/"
        },
        "id": "fqNZYvxMtnka",
        "outputId": "2ae062ab-0aec-49f2-c6ca-39c435134d3e"
      },
      "execution_count": null,
      "outputs": [
        {
          "output_type": "stream",
          "name": "stdout",
          "text": [
            "Wow.. love this blazer! it's not as structured as some blazers , but the woven fabric hugs in the right places. fantastic addition and great alternative to the good'ol black blazer.. great versatility work to play. nice weight for fall, but will also do well for my fl winter. it's longer than some of my other blazers, but i like it.. with the front pockets as they are, it makes for a unique design that gets noticed. i got the size 4 and i have broad shoulders for someone @ 135lbs.. makes for a n\n",
            "--------------------------------------\n",
            "I am 5' and 3/4\" tall. too \"tall\" for most petite pants and too short for regular pants. these ran a little big. i weigh @140 lbs. and have been wearing mostly 28s and 29s, which is what i ordered. the 29s were a tad too big around the waist. the 28 fit but were so long that they looked like clown pants on me. i am in the conundrum that i can never find cropped pants that fit because i am in between petite and regular height sizing. these were a perfect example. they both went back. loved the qu\n",
            "--------------------------------------\n",
            "I ordered the black 2 months ago, it was on back order, and i jsut received it finally. the fabric is super soft, itried on both xxs and xs and could keeo either one. the \"v\" in front where it crosses is low, so most people do need a cami underneath, but you could probably do without for ultra sexy look (not my style, but could be done). i plan on wearing this with skirts, deresses and slacks... i saw a commet on the lighter color, not sure, but love this one in black for sure@\n",
            "--------------------------------------\n",
            "Material is heavy enough to provide warmth on a crisp day or evening. add poncho or large warm scarf to keep colder temps @ bay. sure wish this came in blk. i bought mauve & just love it!\n",
            "--------------------------------------\n",
            "While i love the fabric and the pattern, this skirt leaves too much to be desired. the full price is absurd considering what you get. there is no mention online that there is no built in slip, and as the material is extremely thin a slip is an absolute must. (see attached photo.) even in dim lighting you can see straight through. also for this price point it is strange that the skirt is 'pull-on styling.' i would say that it is true to size, and i am usually a medium @ retailer, but i have a sm\n",
            "--------------------------------------\n",
            "I truly feel guilty wearing these outdoors. it is incredibly comfortable, so much so that i asked the sales girl if these were pjs or actually worn out. i'm usually between a s and m. both fit fine, but i went with the m to have a bit more room and allow the top to be a bit more \"flannel\" flowy. the top has enough length that i can actually let it droop over the waist bet a bit. the length is definitely upper thigh on me (5'8\" @ 145), but rest assured, nothing is hanging out. it's actually the p\n",
            "--------------------------------------\n"
          ]
        }
      ]
    },
    {
      "cell_type": "markdown",
      "source": [
        "💡 somewhere @ means 'at', somewhere can be removed"
      ],
      "metadata": {
        "id": "fkTk5Od-wZAT"
      }
    },
    {
      "cell_type": "code",
      "source": [
        "for x in df[df['Review Text'].str.contains('#')]['Review Text'][:10]:\n",
        "  print(x)\n",
        "  print('--------------------------------------')"
      ],
      "metadata": {
        "colab": {
          "base_uri": "https://localhost:8080/"
        },
        "id": "8OIyFNboxfe5",
        "outputId": "b359aa89-01ce-446c-ae9b-3b6745194363"
      },
      "execution_count": null,
      "outputs": [
        {
          "output_type": "stream",
          "name": "stdout",
          "text": [
            "As is true of a bunch of the fall clothing photos, the colors are totally washed out in these model images which is such a shame. the embroidery is bright and vivid and totally unique on this! the bib area is actually a soft corduroy which i think is nice to transition into fall and winter. in terms of fit, i do feel like this is maybe geared more towards the slender build - it is a slim cut which i found really flattering for me since i sometimes swim in tunics. at 5'7\", 128# with a very small\n",
            "--------------------------------------\n",
            "Love this so much because it's so soft, pliable and fits wonderfully with all of my fall wardrobe. i ordered the plum color, which looks brown to me. was advised to size up and glad i did. i bought large petite and my stats are 5'3\" 135# 38/28/35.\n",
            "--------------------------------------\n",
            "Everything about this dress is perfect for my body type. i used the tie belt as a cinch to gather the fabric and made the silhouette into a loose fit & flare. i have a large upper body and small lower half so maybe the excess fabric balances out my body but looks terrible on other shapes. i am 36dd 140# 5'3\" and i purchased the medium petite.\n",
            "--------------------------------------\n",
            "Nice fit and color and i love the tall cuff but you will need to size up at least two sizes. as the previous reviewer stated these jeans do run extremely small. i usually wear a 27 ag in jeans, sometimes a 28 for the ag legging jeans but the 28 in these were still very tight all over, and uncomfortable. i don't like my jeans skin tight so i had to go up to a size 29 but they fit and look great. sizing definitely off on these. i am 5'3\" 115# for reference.\n",
            "--------------------------------------\n",
            "A lovely, creatively designed tunic that just isn't for me. the embroidery is certainly intricate and the chambray shirt has a wearable hand, but the combination on my body type didn't look quite right, probably because i am too top heavy and apple torsoed. i think if i were more slender, the fit would look like a flattering dress. i had purchased the size 10 and i am 36dd 140#.\n",
            "--------------------------------------\n",
            "I had a hunch that this would run big based on the style and brand, so ordered an xs instead of my normal s and it was perfect! the fit on me is exactly like the model shot - swingy but still cute and falls nicely. i am 5'7\", 128#, 34a for reference. i got the orange color and would say it is a little more on the reddish/burnt orange side than what is pictured. it's very cute - i'm happy to keep it at the promo price.\n",
            "--------------------------------------\n",
            "This dress is adorable - it's a perfect casual look for summer and the quality is nice with the lining (though still overpriced, in my opinion). the tie detail is somewhat adjustable, and i found my normal size s to fit fine (5'7, 128#). where this gets me is the fact that it's dry clean...totally doesn't make sense for a dress that is essentially a fancy tshirt for summer. i might bring it back for that alone, since i originally planned to wear it a lot. :(\n",
            "--------------------------------------\n",
            "Too bad the blue one is sold out in my size (petite), i ordered the 00p, based on feedback at m store that it runs big, that was a good choice (i am 5'1.5\", 115 lbs#. the material teds to wrinkle though, so will have to think about keeping it. cut is flattering, i like it with the belt like the picture on the model, but was nice too with the drawstring and a nice chunky necklace #bought black dress, so gold necklace is nice). length was mid calf, but because it has a rounded hem, it wa\n",
            "--------------------------------------\n",
            "Tiny are experts at making busy bohemian shirtdresses that look casual but retain a feminine drape. it skims over my trouble spots without adding bulk. this is my fourth dress from this label and it does not disappoint. for my frame and style i chose tts but those of slender & petite builds may want to size down. for reference i am 5'3\" 140# 36dd.\n",
            "--------------------------------------\n",
            "I found these jeans to be more fitted than slouchy. for reference, i'm 5'4\" and 160#. i'm heavier thru the hips and thighs and ordered both the 31 & 32 petite (i usually take 32 p in pilcro) and the 32 fit well but was by no means slouchy. however, still very flattering and unique. i had purchased the other pilcro em in 32 p and they did fit looser and i would also recommend that style. always count on pilcro for great fit and style.\n",
            "--------------------------------------\n"
          ]
        }
      ]
    },
    {
      "cell_type": "markdown",
      "source": [
        "💡 1. most commonly # goes after number, in most cases it is related to weight (in pounds(lbs)), replace with lbs ⚡</br>\n",
        "2. `&#39;` represents single quote, which should be replaced ⚡"
      ],
      "metadata": {
        "id": "bUNEFedyxyTd"
      }
    },
    {
      "cell_type": "code",
      "source": [
        "df['Review Text']  = df['Review Text'].apply(lambda x: regex.sub(r'(?<=[0-9]+)#', ' lbs', x))\n",
        "df['Review Text'] = df['Review Text'].apply(lambda x: x.replace(\"amp;\", \"\"))\n",
        "df['Review Text'] = df['Review Text'].apply(lambda x: x.replace(\"&#39;\", \"'\")) "
      ],
      "metadata": {
        "id": "euHIcgKy0PFe"
      },
      "execution_count": null,
      "outputs": []
    },
    {
      "cell_type": "markdown",
      "source": [
        "# Check links"
      ],
      "metadata": {
        "id": "G8gHdALg9Dq6"
      }
    },
    {
      "cell_type": "code",
      "source": [
        "print('http in title >>', df['Review Text'].str.contains('http').sum())\n",
        "print('http in review >>', df['Review Text'].str.contains('http').sum())"
      ],
      "metadata": {
        "colab": {
          "base_uri": "https://localhost:8080/"
        },
        "id": "eZpuhtu99FJ5",
        "outputId": "604adcb4-951c-4fb4-9569-63472c981347"
      },
      "execution_count": null,
      "outputs": [
        {
          "output_type": "stream",
          "name": "stdout",
          "text": [
            "http in title >> 0\n",
            "http in review >> 0\n"
          ]
        }
      ]
    },
    {
      "cell_type": "markdown",
      "source": [
        "# Check non-ascii characters"
      ],
      "metadata": {
        "id": "3dZJEkt9zKY8"
      }
    },
    {
      "cell_type": "code",
      "source": [
        "df['Not ascii characters title'] = df['Title'].apply(lambda x: not x.isascii())\n",
        "df['Not ascii characters review'] = df['Review Text'].apply(lambda x: not x.isascii())\n",
        "\n",
        "print('Not ascii titles: ', str(round(len(df[df['Not ascii characters title']])/len(df)*100, 2)) + ' %')\n",
        "a = len(df[df['Not ascii characters review']])\n",
        "b = len(df)\n",
        "c = round(len(df[df['Not ascii characters review']])/len(df)*100, 2)\n",
        "print(f'Not ascii reviews: {a} / {b} = {c} %')"
      ],
      "metadata": {
        "colab": {
          "base_uri": "https://localhost:8080/"
        },
        "id": "wusNHaKXyA8d",
        "outputId": "90da736c-bf28-475b-89e3-6b5c81a97e30"
      },
      "execution_count": null,
      "outputs": [
        {
          "output_type": "stream",
          "name": "stdout",
          "text": [
            "Not ascii titles:  0.0 %\n",
            "Not ascii reviews: 25 / 18113 = 0.14 %\n"
          ]
        }
      ]
    },
    {
      "cell_type": "code",
      "source": [
        "for x in df[df['Not ascii characters review']]['Review Text']:\n",
        "    print(x)\n",
        "    print('------------------------')"
      ],
      "metadata": {
        "colab": {
          "base_uri": "https://localhost:8080/"
        },
        "id": "2B7zp1pBNErP",
        "outputId": "a3286d4b-3c1e-493a-f10f-52a5999bb0a7"
      },
      "execution_count": null,
      "outputs": [
        {
          "output_type": "stream",
          "name": "stdout",
          "text": [
            "I love this dress! the colors work well with my olive skin color, it has pockets and it has a hi-lo front/back.â â i have slim hips so the tie waist is very flattering which gives an hourglass figure.â â i am 5?2?, 116 lbs and a 32d.â â i usually need a petite size because retailer dresses run a little long on me. but i was able to get away with getting an xs regular because of the hi-lo length. it fell perfectly above my knee.\n",
            "------------------------\n",
            "Tried on standard xs and the photo on-line is slightly misleading as i thought that there were more colors involved in the embroidery pattern. in person, the pattern is not as intricate with only 2 solid colors. the body of the shirt is light, airy/billowy, not as form grazing like on the model..which i don't mind. i still love the top but would have to go for a petite xs or even a petite xxs so that it would be a little more fitted all around. note that the embroidery on the dã©colletã© feels lik\n",
            "------------------------\n",
            "The appliquã© on this dress is well done. i would recommend it to anyone. the design is super flattering and feminine.\n",
            "------------------------\n",
            "This top is beauitiful. gorgeous detailing with the eyelet lace, black flower appliquã©s, silver beads and tiny rose gold sequins down the front. true to size. i'm 5'2\", 130 lbs, 34b and took my usual size 4. the slits do come up a bit far on the sides like another reviewer noted but not really enough to be a problem. i didn't find it necessary to get the petite size in this top. i was going to wait until further markdown since the top is still pricey even with a 20% discount but couldn't resist\n",
            "------------------------\n",
            "This gorgeous dress arrived today and i can't wait to wear it. based on other reviews i ordered a 6 petite even though i'm 5'6\" because i wanted the skirt to hit just above my knee. it's perfect. i usually wear a 4 or 6 and the 6p fits well, not snug but not big either. maybe a 6r would be larger, i don't know. if you are worried about the skirt being too long then definitely try a petite size. the dress is risquã© because it's faux \"see through\" but still very classy and elegant. it's sexy w\n",
            "------------------------\n",
            "I ordered my usual 0p, and this skirt seemed a little long for me. the 00p might also have fit if higher on the waist, as it hung a little, so in that sense, if you prefer higher waisted skirts, you can size down (i am 115 lbs, 26.5-27 in waist). the cut is nice and does flare out, but the one i received was folded and you could see the folds... so it didn't do the skirt justice. the top layer is almost off white, while the under skirt is pink, so that is a nice contrast. the appliquã© is pretty\n",
            "------------------------\n",
            "The dress at first glance is pretty, feminine, and a timeless shape. sadly the quality just isn't there. i ordered online and was excited trying it on (dress fit true to size for me, all be it a little snug in the chest). the zipper is super cheap, hard to get up or down on or off the hanger. the appliquã©s are sewn onto a super flimsy netting, already coming detached without even having worn it. i could see this dress catching on \"everything\" and tearing easily. given the quality i'm return\n",
            "------------------------\n",
            "Really cute version of a sweatshirt. fits true to size through the shoulders and bust line; however, since i am larger in the bust area than the hip, the lower half of the top looks slightly large on my body. the sweatshirt is cut very straight, so it would probably flatter a person with a pear or straight shape. the inside material of the sweatshirt is a little rough; however, the appliquã© design makes this shirt a keeper.\n",
            "------------------------\n",
            "It definitely smells like vinegar but it went away after a few hours. i don't think its itchy. its kind of baggy and kind of has an ombrã© look to it fading down to darker. it looks casual in the pic but i can wear it out at night with cute earrings\n",
            "------------------------\n",
            "This 1960s aprã¨s-ski style sweater is made of an amazingly soft pure wool in a color that is a touch brighter and maybe even a bit more coral pink than the online photo looks to me. there is a large button under the collar that shows if you stand it up. seems to be of a very high quality, comparable to vintage hand-knit sweaters. . it is very chunky and warm, and i would recommend taking a size up for a looser fit. i'm 5'2\", 33-25-37, narrow shoulders, and otth the xs and s fit me well, running\n",
            "------------------------\n",
            "Loving the ombrã© color combination, the smooth lining, the fuzzy felty warmth and the slimming effect when viewed from the front. if you are busty or hourglass, stay tts or size up. if you are straight and/or small busted, size down. if you have a round bottom but slender on top, i'm not sure this dress will fit the way you want, do try it on in person.\n",
            "------------------------\n",
            "I have a racetrack bra that works with the arm holes (a bit large - like you see on the model), so i am not concerned about them. i may or may not have my tailor tack them in. length was good, knee length (some of retailer dresses are a tad short for my 40-yr old self). shape was flattering. i've some weight on my bum and things, even though i'm small. the back of the dress hung well, not clinging to the derriã¨re. the swing shape didn't overly accentuate my hips. i really love the dress. it's a kn\n",
            "------------------------\n",
            "I am inspired to sit in front of a roaring fire, sipping tea, with the dogs at my feet, in this sweater. or roaming the moors. the cashmere is thick, luxurious, and soft. there is a cable detail that runs along the large wooden buttons and also the pockets, (decent sized pockets to stash a hanky, while roaming the moors). the fit is on the large size and boxy. if i had to nit pick, i would say that the length could be a tad longer. the sweater does not have complete derriã¨re coverage. i am 5?5?\n",
            "------------------------\n",
            "Purchased this in-store today. i'm normally a small, but tried on x-small before trying on my regular size. the x-small fit perfectly. i'm 5\"5, 135 lbs, with wide hips and petite derriã¨re. the dress fit well, slightly hugging my bottom. while i don't like things that draw attention to my bottom, with an outward tug or two of the stretchy material of the dress, it fit perfectly. sweater dresses tend to be bulky, so it makes sense to down size. definitely a nice addition to my closet.\n",
            "------------------------\n",
            "I am so pleased with this midi dress; i've already worn and laundered this dress multiple times and i cannot express how comfortable and cute this dress is to wear. best of all, the fabric is just substantial enough that there are no posterior lumps or panty lines that are visible and the v-neck is just low enough to provide a subtle sexy dã©colletage. i love the length of this dress as i really dislike my knobby knees and this exposes enough leg from the sides and disguises the ugly knees for me\n",
            "------------------------\n",
            "I am so sad i have to return these leggings. they're adorable--so much so that my fiancã© commented favorably on them--but as other reviewers have pointed out, there's no elastic or string in the waistband so you have to walk around holding them up with one hand or they'll fall down! why, sleeping on snow? whyyyyyyyyyyy? they're so great otherwise!\n",
            "------------------------\n",
            "I love the color and design of this suit, however, the rise is too high on my derriã¨re and was not appealing on myself! i am 5'7\" 110 lbs., with a very small bust and a short waist. i think the suit runs very small, as i am a size xs/s in most of retailers clothing. i would recommend it to young lady with a very small derriere and is more petite!\n",
            "------------------------\n",
            "I was taking my time with this purchase i needed a top for a pair of ombrã© silk pants that i had tailored to fit. but everytime i put these pants on i couldn't find any top to come close to match..especially since the pants are for a more sophisticated look. well this top fits that perfectly and i'm excited to pair them for a nice dinner out. plus i was equally excited when i could pair the top with my jeans and sandals.\n",
            "------------------------\n",
            "...but it does have it's problems. the neck, although it has pretty button detail at the back, is very outsized on me. i would like to see it fit a bit more snugly as by not laying flat, necklaces bunch up and are hard to wear with it. it is just sort of 'floppy' if i'm making sense. the camisole liner is nicely made and attaches with snaps at the shoulders which gives this a definite plus. the fabric is sort of like chiffon with appliquã©d flowers. the color combination is beautiful and with the\n",
            "------------------------\n",
            "I couldn't wait to get this dress from the online order. the fabric looked so interesting to me - linen, appliquã©, pockets, raw neckline. the dress looks sort of straight up and down on the model but in my opinion it's like a little a line tent. the top runs very narrow and i could barely get it over my head. i'm going to return it and try for a medium, for reference i am 5'4\" 135 and usually wear a six or a small.\n",
            "------------------------\n",
            "I loved this dress especially because each flower appliquã© was so beautiful. however, each attached to one another by single threads. given that i wear lots of rings, i could already tell that i might snag these beautiful flowers. additionally, the appliquã©s are sewn so close to the back zipper that some of the flowers were already getting damaged from the dress being tried on. overall, if you are very careful, this is an amazing dress, but i did return it because of its delicate nature.\n",
            "------------------------\n",
            "The shirt brings back the '60s look of appliquã©d patches on shirts. it is a quality piece with a bit of humor. the length is shorter than usual for chambray shirts but also very comfortable . it could be left open as a light jacket over tees and tanks. fabric feels good on skin.\n",
            "------------------------\n",
            "This is a very flattering top and the details are spectacular. it is very comfortable to wear and the the appliquã©s and embroidery make this very slimming. as the other reviews noted the side slits go up quite high. i won't be raising my arms much wearing this. the small rhinestones in the center of the black flowers go around the entire sleeve and they catch on the rest of the shirt sometimes. i have to be aware of it and more careful not to make very fast movements until i'm sure i'm not tangl\n",
            "------------------------\n",
            "This is comfy and casual and fun to wear. moss ombrã© is darker and less ombrã© than pictured, so i wish i had gotten the other color way instead. i can see myself wearing this for running errands, grabbing take-out and other important things like hanging out on my couch. definitely size down or this will look too wide & boxy.\n",
            "------------------------\n",
            "I just received my dress yesterday and it is gorgeous!!! i actually ordered 2 sizes, 00p and 0p, depending on some cuts i'm between those 2 sizes, i am 5'1 92 lbs but with holidays eating i have gained 4 pounds so far, so the 00p was bit too tight all way from hips to bust area, i was able to zip it up but was a bit painful to keep breathing and got some weird wrinkles on the back between waist line and derriã©re. the dress is a beautiful cocktail of sexy curvy silhouette with the baroque flavor\n",
            "------------------------\n"
          ]
        }
      ]
    },
    {
      "cell_type": "markdown",
      "source": [
        "💡 words with non-ascii characters: <br/>\n",
        "<br/>\n",
        "â â   x1 <br/>\n",
        "dã©colletã©   x1 <br/>\n",
        "appliquã©   x10 <br/> \n",
        "derriã©re   x1 <br/>\n",
        "ombrã©   x4<br/>\n",
        "derriã¨re   x4<br/>\n",
        "fiancã©   x1<br/>\n",
        "dã©colletage   x1<br/>\n",
        "risquã©   x1<br/>\n",
        "aprã¨s-ski   x1<br/>\n",
        "<br/>\n",
        "According to [this](https://www.i18nqa.com/debug/utf8-debug.html) source:<br/>\n",
        "ã© => é<br/>\n",
        "ã¨ => é<br/>\n",
        "<br/>\n",
        "⚡ <br/>\n",
        "â â => remove <br/>\n",
        "ã© and ã¨ => replace with simple e <br/>"
      ],
      "metadata": {
        "id": "uf7mxKzEMeTu"
      }
    },
    {
      "cell_type": "code",
      "source": [
        "df['Review Text'] = df['Review Text'].str.replace('â â', '')\n",
        "df['Review Text'] = df['Review Text'].str.replace('ã©', 'e')\n",
        "df['Review Text'] = df['Review Text'].str.replace('ã¨', 'e')"
      ],
      "metadata": {
        "id": "BSrsj2jATuba"
      },
      "execution_count": null,
      "outputs": []
    },
    {
      "cell_type": "code",
      "source": [
        "df['Not ascii characters review'] = df['Review Text'].apply(lambda x: not x.isascii())\n",
        "print(f'Not ascii reviews: ', len(df[df['Not ascii characters review']]))"
      ],
      "metadata": {
        "colab": {
          "base_uri": "https://localhost:8080/"
        },
        "id": "qaT-e7cwTMB_",
        "outputId": "fd9c3a69-a23a-4f82-d146-7fa7fafdfe0b"
      },
      "execution_count": null,
      "outputs": [
        {
          "output_type": "stream",
          "name": "stdout",
          "text": [
            "Not ascii reviews:  0\n"
          ]
        }
      ]
    },
    {
      "cell_type": "markdown",
      "source": [
        "# Check emojis"
      ],
      "metadata": {
        "id": "ltgkRg2yrUJn"
      }
    },
    {
      "cell_type": "code",
      "source": [
        "!pip install emot"
      ],
      "metadata": {
        "colab": {
          "base_uri": "https://localhost:8080/"
        },
        "id": "Pe0A7Rpr44H-",
        "outputId": "40e66e11-1b98-4d6f-c9f9-f106d4cb3bb2"
      },
      "execution_count": null,
      "outputs": [
        {
          "output_type": "stream",
          "name": "stdout",
          "text": [
            "Requirement already satisfied: emot in /usr/local/lib/python3.7/dist-packages (3.1)\n"
          ]
        }
      ]
    },
    {
      "cell_type": "code",
      "source": [
        "import emot \n",
        "emot_obj = emot.core.emot()\n",
        "print('Emoji') \n",
        "print(emot_obj.emoji('🙂'))\n",
        "print('\\nNo emoji') \n",
        "print(emot_obj.emoji(' text '))\n",
        "print('\\nEmoticon') \n",
        "print(emot_obj.emoticons(' :) '))\n",
        "print('\\nNo emoticon') \n",
        "print(emot_obj.emoticons(' text '))"
      ],
      "metadata": {
        "colab": {
          "base_uri": "https://localhost:8080/"
        },
        "id": "oIH0z1Pj42ph",
        "outputId": "9aad3d23-8bb1-42c2-8780-98618de98b76"
      },
      "execution_count": null,
      "outputs": [
        {
          "output_type": "stream",
          "name": "stdout",
          "text": [
            "Emoji\n",
            "{'value': ['🙂'], 'location': [[0, 1]], 'mean': [':slightly_smiling_face:'], 'flag': True}\n",
            "\n",
            "No emoji\n",
            "{'value': [], 'location': [], 'mean': [], 'flag': False}\n",
            "\n",
            "Emoticon\n",
            "{'value': [':)'], 'location': [[1, 3]], 'mean': ['Happy face or smiley'], 'flag': True}\n",
            "\n",
            "No emoticon\n",
            "{'value': [], 'location': [], 'mean': [], 'flag': False}\n"
          ]
        }
      ]
    },
    {
      "cell_type": "markdown",
      "source": [
        ""
      ],
      "metadata": {
        "id": "e6GBRwVTfenY"
      }
    },
    {
      "cell_type": "code",
      "source": [
        "df['Emoji in Title'] = df['Title'].apply(lambda x: emot_obj.emoji(x)['flag'])\n",
        "df['Emoji in Review Text'] = df['Review Text'].apply(lambda x: emot_obj.emoji(x)['flag'])\n",
        "df['Emoticons in Title'] = df['Title'].apply(lambda x: emot_obj.emoticons(x)['flag'])\n",
        "df['Emoticons in Review Text'] = df['Review Text'].apply(lambda x: emot_obj.emoticons(x)['flag'])\n",
        "\n",
        "print('Number of titles with emojis: ', len(df[df['Emoji in Title']]))\n",
        "print('Number of reviews with emojis: ', len(df[df['Emoji in Review Text']]))\n",
        "print('Number of titles with emoticons: ', len(df[df['Emoticons in Title']]))\n",
        "print('Number of reviews with emoticons: ', len(df[df['Emoticons in Review Text']]))"
      ],
      "metadata": {
        "colab": {
          "base_uri": "https://localhost:8080/"
        },
        "id": "Bjy81iGm5yNM",
        "outputId": "e147347a-3932-4a7e-e620-31e1865b23c2"
      },
      "execution_count": null,
      "outputs": [
        {
          "output_type": "stream",
          "name": "stdout",
          "text": [
            "Number of titles with emojis:  0\n",
            "Number of reviews with emojis:  0\n",
            "Number of titles with emoticons:  38\n",
            "Number of reviews with emoticons:  370\n"
          ]
        }
      ]
    },
    {
      "cell_type": "code",
      "source": [
        "def get_emoticons_dict(column):\n",
        "  emoticons_title_dict = {}\n",
        "  for x in df[df[f'Emoticons in {column}']][column]:\n",
        "    result = emot_obj.emoticons(x)\n",
        "    for emoticon in result['value']:\n",
        "      if emoticon not in emoticons_title_dict:\n",
        "        emoticons_title_dict[emoticon] = []\n",
        "      emoticons_title_dict[emoticon].append(x)\n",
        "  return emoticons_title_dict\n",
        "\n",
        "def emoticons_to_count(emoticons_dict):\n",
        "  items = emoticons_dict.items()\n",
        "  items = [(item[0], len(item[1])) for item in items]\n",
        "  items = sorted(items, key=lambda x: x[1], reverse=True)\n",
        "  return items"
      ],
      "metadata": {
        "id": "liWLu1A16-eN"
      },
      "execution_count": null,
      "outputs": []
    },
    {
      "cell_type": "code",
      "source": [
        "emoticons_title_dict = get_emoticons_dict('Title')\n",
        "emoticons_to_count(emoticons_title_dict)"
      ],
      "metadata": {
        "id": "fFFjBnPWEYXF",
        "colab": {
          "base_uri": "https://localhost:8080/"
        },
        "outputId": "0b6a7ad9-a84b-47d3-b377-dbb5f352c26e"
      },
      "execution_count": null,
      "outputs": [
        {
          "output_type": "execute_result",
          "data": {
            "text/plain": [
              "[(':(', 16),\n",
              " (':)', 8),\n",
              " ('d:', 4),\n",
              " (':-(', 3),\n",
              " (':/', 2),\n",
              " (';)', 2),\n",
              " ('=)', 1),\n",
              " ('=/', 1),\n",
              " (':))', 1)]"
            ]
          },
          "metadata": {},
          "execution_count": 171
        }
      ]
    },
    {
      "cell_type": "code",
      "source": [
        "top = 2\n",
        "for emoticon in emoticons_title_dict:\n",
        "  print(emoticon)\n",
        "  for sentence in emoticons_title_dict[emoticon][:top]: \n",
        "    print(sentence)\n",
        "  print('-------------------------------')"
      ],
      "metadata": {
        "id": "jymOhSJfF8Yg",
        "colab": {
          "base_uri": "https://localhost:8080/"
        },
        "outputId": "c9d39156-4ff3-482e-8c6e-1988435faf55"
      },
      "execution_count": null,
      "outputs": [
        {
          "output_type": "stream",
          "name": "stdout",
          "text": [
            ":)\n",
            "Great top for pregnant women:)\n",
            "The one that didn't get away! :)\n",
            "-------------------------------\n",
            ":-(\n",
            "Too long :-(\n",
            "Not for single girls :-(\n",
            "-------------------------------\n",
            ":(\n",
            "Adorable but runs small in the bust :(\n",
            "So disappointed :(\n",
            "-------------------------------\n",
            "d:\n",
            "Be warned: these pants snag on everything\n",
            "Dissapointed:(\n",
            "-------------------------------\n",
            ":/\n",
            "Ehh not a fan :/\n",
            "Beautiful. great quality. low cut bottom :/\n",
            "-------------------------------\n",
            ";)\n",
            "Ok curvy peeps! ;)\n",
            "Fun ;)\n",
            "-------------------------------\n",
            "=)\n",
            "Love it =))\n",
            "-------------------------------\n",
            "=/\n",
            "Jolly arms =/= jolly jacket\n",
            "-------------------------------\n",
            ":))\n",
            "Happy :))\n",
            "-------------------------------\n"
          ]
        }
      ]
    },
    {
      "cell_type": "markdown",
      "source": [
        "💡 Not all emojis detected with this library are valid!"
      ],
      "metadata": {
        "id": "0pES-Xc_EC6p"
      }
    },
    {
      "cell_type": "code",
      "source": [
        "emoticons_review_dict = get_emoticons_dict('Review Text')\n",
        "emoticons_to_count(emoticons_review_dict)"
      ],
      "metadata": {
        "id": "8bT-ziNpKKPv",
        "colab": {
          "base_uri": "https://localhost:8080/"
        },
        "outputId": "0bfc1887-597a-41aa-9b05-324a66aa5078"
      },
      "execution_count": null,
      "outputs": [
        {
          "output_type": "execute_result",
          "data": {
            "text/plain": [
              "[(':)', 164),\n",
              " (':(', 80),\n",
              " (';)', 35),\n",
              " ('d:', 33),\n",
              " (':-)', 32),\n",
              " (':-(', 12),\n",
              " (':/', 8),\n",
              " (':))', 5),\n",
              " ('%)', 5),\n",
              " (':>', 2),\n",
              " (':-))', 1),\n",
              " ('=]', 1),\n",
              " ('*)', 1),\n",
              " (':#', 1),\n",
              " (':o', 1),\n",
              " ('=)', 1),\n",
              " (':-0', 1)]"
            ]
          },
          "metadata": {},
          "execution_count": 173
        }
      ]
    },
    {
      "cell_type": "code",
      "source": [
        "for emoticon in emoticons_review_dict:\n",
        "  if len(emoticons_review_dict[emoticon]) < 5:\n",
        "    print(emoticon)\n",
        "    for sentence in emoticons_review_dict[emoticon]: \n",
        "      print(sentence)\n",
        "    print('-------------------------------')"
      ],
      "metadata": {
        "id": "oIx_mS-0OmXG",
        "colab": {
          "base_uri": "https://localhost:8080/"
        },
        "outputId": "2b81002d-5da4-494f-c2f8-17a1d9d25f43"
      },
      "execution_count": null,
      "outputs": [
        {
          "output_type": "stream",
          "name": "stdout",
          "text": [
            ":-))\n",
            "I love the color combination, and the bodice is very falttering. it has a tiny bit of stretch. the tulle is also feminine, i love that i could wear this with a moto jacket... sizing: no need for petite, it was short enough in regualr size. i think petite would have been too short (unless you are younger:-))\n",
            "-------------------------------\n",
            "=]\n",
            "I tried this top on in the store before i ordered it online. i'm a size 2/4 (varies), and i ordered it in a size 2. i've been searching the perfect, fitted, white, button-down blouse for weeks, and i love this top! it's figure flattering, true to size, and a cute, classy alternative to your basic white button down. i can't wait to wear it! =]\n",
            "-------------------------------\n",
            "*)\n",
            "I feel that for this price, i should love this top (and i wanted to). however, the price is on the high side for a relatively basic top, and there were a few things about it that could be improved. pros: i ordered a medium and feel that it's pretty true to size. additionally, the fabric is nice and light (but also *sheer*) and, generally speaking, has a nice pattern. overall, it's a very pretty top. cons: there's a cute criss-cross ruffle thing happening in the back but the model has cleverly\n",
            "-------------------------------\n",
            ":#\n",
            "I purchased my wife this shirt for christmas and she loved it! the quality of the shirt is amazing and now she wants them in every color! even though she says she's kidding, i really know that she isn't.! :# the information i fill out #below) is about my wife, not me!\n",
            "-------------------------------\n",
            ":o\n",
            "Love the design, material, and color...the sizing as listed is waaaaay off (running small). returned to store (after purchase online) 3 times to get one that fits, which was at least generally easy :o\n",
            "-------------------------------\n",
            "=)\n",
            "I did buy these when they were 40% off the sale price. well worth it. they are comfortable, thick but not too warm. they are my 'nice' home pants to wear outside. =) i love them. i got a large and they fit on the baggy side but not bad. i'm usually a large or xl.\n",
            "-------------------------------\n",
            ":>\n",
            "I bought this in a medium at the store (usually a size 8 -10) and bought one for my daughter who was with me ,in the coral color. (she's 7 months pregnant , and bought her a small. it fits fine below the belly. she loves how comfy it is.) my other daughter saw them and i had to buy her a pair as well. :>) so, we were hanging out at the hotel on a girls weekend and wore them at the pool and even to sleep in. i think you can actually dress it up and wear it out and about as well. i did see that a\n",
            "I gave only 4 stars because i really wish the fabric was not so sheer. unless you are very unmodest, you will need to wear a slip. i am 6 feet and it hits just above my ankle. slits on side and front. i know it is 'supposed to' be use as a beach cover-up..but forgot that! this is way too pretty not to wear out at night(with a slip {:>). i am not a fan of the tie waist, so i at wear a belt to cover it. overall, i recommend. enjoy!\n",
            "-------------------------------\n",
            ":-0\n",
            "This little number is really cute, i got it on sale, after i looked at it, went home, slept and decided i had to go ack for it:-0 i will wear it with trouser jeans and a blazer for work, or jsut jeans and boots for casual wear.\n",
            "-------------------------------\n"
          ]
        }
      ]
    },
    {
      "cell_type": "code",
      "source": [
        "emoticon = 'd:'\n",
        "top = 5\n",
        "for sentence in emoticons_review_dict[emoticon][:top]:\n",
        "  print(sentence)\n",
        "  print('-------------------------------')"
      ],
      "metadata": {
        "id": "VD4FBsh-KilR",
        "colab": {
          "base_uri": "https://localhost:8080/"
        },
        "outputId": "4112c0ae-261e-4c31-cb02-407ed12c53d6"
      },
      "execution_count": null,
      "outputs": [
        {
          "output_type": "stream",
          "name": "stdout",
          "text": [
            "Here's what i liked: great shape through body, cool empire waist. and good length loved the color, more rust than red. material was somewhat light which liked since i often get overheated in turtlenecks. here's what i disliked: the sleeves!! the reason they only show the model with her arms against her body is because the sleeves are ridiculous. they are just too big and too flowy. they will always be in the way of everything and there is no way to roll or push up.\n",
            "-------------------------------\n",
            "Here's what i liked: great shape through body, cool empire waist. and good length loved the color, more rust than red. material was somewhat light which liked since i often get overheated in turtlenecks. here's what i disliked: the sleeves!! the reason they only show the model with her arms against her body is because the sleeves are ridiculous. they are just too big and too flowy. they will always be in the way of everything and there is no way to roll or push up.\n",
            "-------------------------------\n",
            "I love the way this dress looks on me. it skims my figure to hide my flaws, the bright embroidery is eye catching, the layers flow when i walk, it's a great midi length and it doesn't make me look wider in profile. i'm not having the see-through issue since the patterns are busy and my lingerie matches. i purchased 10 petite and my measurements are 39-28-35. my dilemma is three fold: the material is polyester & rayon, causing some uncomfortable heat to generate when sitting. then there's\n",
            "-------------------------------\n",
            "I'm: 34a, 125 lbs, 5'8\" purchased: small jacket fits well and is not too heavy. didn't feel tight in the arms. great to wear on a cool spring day! i bought the white and grey jacket.\n",
            "-------------------------------\n",
            "First, the good: i like the basic shape of the jacket, with its crisply cut lapels and rounded corners at the bottom...the functional pockets (including the cool watch pocket), the size of the buttons, the color. i got the honey, and it was lovely and intense,. now, the bad: i got the regular 8. the jacket is at least an inch too short. although it's a small, tight 8, the sleeves are strikingly too long. they would have to be folded, and the lining which would show is not that attractive.\n",
            "-------------------------------\n"
          ]
        }
      ]
    },
    {
      "cell_type": "code",
      "source": [
        "def fix_emoticons(row):\n",
        "  if row['Emoticons in Title']:\n",
        "    row['Title'] = row['Title'].replace('d:(', 'd :(')\n",
        "    row['Title'] = row['Title'].replace('=))', '=)')\n",
        "  if row['Emoticons in Review Text']:\n",
        "    row['Review Text'] = row['Review Text'].replace('d:(', 'd :(')\n",
        "    row['Review Text'] = row['Review Text'].replace('=))', '=)')\n",
        "  return row\n",
        "\n",
        "emoticons_to_ignore = ['=/', 'd:', '%)', '*)']\n",
        "\n",
        "def remove_emoticons(row):\n",
        "  if row['Emoticons in Title']:\n",
        "    result = emot_obj.emoticons(row['Title'])\n",
        "    for emoticon in result['value']:\n",
        "      if emoticon not in emoticons_to_ignore:\n",
        "        row['Title'] = row['Title'].replace(emoticon, ' ')\n",
        "  if row['Emoticons in Review Text']:\n",
        "    result = emot_obj.emoticons(row['Review Text'])\n",
        "    for emoticon in result['value']:\n",
        "      if emoticon not in emoticons_to_ignore:\n",
        "        row['Review Text'] = row['Review Text'].replace(emoticon, ' ')\n",
        "  return row\n",
        "\n",
        "def replace_emoticons(row):\n",
        "  if row['Emoticons in Title']:\n",
        "    result = emot_obj.emoticons(row['Title'])\n",
        "    for emoticon, meaning in zip(result['value'], result['mean']):\n",
        "      if emoticon not in emoticons_to_ignore:\n",
        "        row['Title'] = row['Title'].replace(emoticon, f' {meaning} ')\n",
        "  if row['Emoticons in Review Text']:\n",
        "    result = emot_obj.emoticons(row['Review Text'])\n",
        "    for emoticon, meaning in zip(result['value'], result['mean']):\n",
        "      if emoticon not in emoticons_to_ignore:\n",
        "        row['Review Text'] = row['Review Text'].replace(emoticon, f' {meaning} ')\n",
        "  return row\n",
        "\n",
        "df = df.apply(lambda row: fix_emoticons(row), axis=1)\n",
        "\n",
        "df_removed_emoticons = deepcopy(df)\n",
        "df_replaced_emoticons = deepcopy(df)\n",
        "df_removed_emoticons = df_removed_emoticons.apply(lambda row: remove_emoticons(row), axis=1)\n",
        "df_replaced_emoticons = df_replaced_emoticons.apply(lambda row: replace_emoticons(row), axis=1)"
      ],
      "metadata": {
        "id": "YAf-MT7STspp"
      },
      "execution_count": null,
      "outputs": []
    },
    {
      "cell_type": "code",
      "source": [
        "df[df['Emoticons in Title']]['Title'].head()"
      ],
      "metadata": {
        "id": "NAGWB4mYguCY",
        "colab": {
          "base_uri": "https://localhost:8080/"
        },
        "outputId": "7541f591-30b1-4e41-dd37-7179b636ac8a"
      },
      "execution_count": null,
      "outputs": [
        {
          "output_type": "execute_result",
          "data": {
            "text/plain": [
              "70              Great top for pregnant women:)\n",
              "1416          The one that didn't get away! :)\n",
              "1902                              Too long :-(\n",
              "2192    Adorable but runs small in the bust :(\n",
              "2350                        So disappointed :(\n",
              "Name: Title, dtype: object"
            ]
          },
          "metadata": {},
          "execution_count": 177
        }
      ]
    },
    {
      "cell_type": "code",
      "source": [
        "df_replaced_emoticons[df_replaced_emoticons['Emoticons in Title']]['Title'].head()"
      ],
      "metadata": {
        "id": "26gbpbGQgugS",
        "colab": {
          "base_uri": "https://localhost:8080/"
        },
        "outputId": "14a6e1c8-f442-470a-8085-1a09d09271f5"
      },
      "execution_count": null,
      "outputs": [
        {
          "output_type": "execute_result",
          "data": {
            "text/plain": [
              "70      Great top for pregnant women Happy face or smi...\n",
              "1416    The one that didn't get away!  Happy face or s...\n",
              "1902              Too long  Frown, sad, andry or pouting \n",
              "2192    Adorable but runs small in the bust  Frown, sa...\n",
              "2350       So disappointed  Frown, sad, andry or pouting \n",
              "Name: Title, dtype: object"
            ]
          },
          "metadata": {},
          "execution_count": 178
        }
      ]
    },
    {
      "cell_type": "code",
      "source": [
        "df_removed_emoticons[df_removed_emoticons['Emoticons in Title']]['Title'].head()"
      ],
      "metadata": {
        "id": "orVQMNpCYUvJ",
        "colab": {
          "base_uri": "https://localhost:8080/"
        },
        "outputId": "8dea8ec6-dbd6-4fbb-b556-ced3369e5bbe"
      },
      "execution_count": null,
      "outputs": [
        {
          "output_type": "execute_result",
          "data": {
            "text/plain": [
              "70              Great top for pregnant women \n",
              "1416          The one that didn't get away!  \n",
              "1902                               Too long  \n",
              "2192    Adorable but runs small in the bust  \n",
              "2350                        So disappointed  \n",
              "Name: Title, dtype: object"
            ]
          },
          "metadata": {},
          "execution_count": 179
        }
      ]
    },
    {
      "cell_type": "markdown",
      "source": [
        "# Save cleaned dataset"
      ],
      "metadata": {
        "id": "pP00Sm0AbpF0"
      }
    },
    {
      "cell_type": "markdown",
      "source": [
        "Fix whitespaces again"
      ],
      "metadata": {
        "id": "yp5-it9IxBjZ"
      }
    },
    {
      "cell_type": "code",
      "source": [
        "df['Review Text'] = df['Review Text'].apply(lambda x: ' '.join(x.split()))\n",
        "df_removed_emoticons['Review Text'] = df['Review Text'].apply(lambda x: ' '.join(x.split()))\n",
        "df_replaced_emoticons['Review Text'] = df['Review Text'].apply(lambda x: ' '.join(x.split()))\n",
        "df['Title'] = df['Title'].apply(lambda x: ' '.join(x.split()))\n",
        "df_removed_emoticons['Title'] = df['Title'].apply(lambda x: ' '.join(x.split()))\n",
        "df_replaced_emoticons['Title'] = df['Title'].apply(lambda x: ' '.join(x.split()))"
      ],
      "metadata": {
        "id": "33UgJcxdxAYD"
      },
      "execution_count": null,
      "outputs": []
    },
    {
      "cell_type": "markdown",
      "source": [
        "Remove duplicates again"
      ],
      "metadata": {
        "id": "I_nOfuOSh6N5"
      }
    },
    {
      "cell_type": "code",
      "source": [
        "print('df_removed_emoticons')\n",
        "print(len(df_removed_emoticons))\n",
        "df_removed_emoticons.drop_duplicates(subset='Review Text', inplace=True)\n",
        "print(len(df_removed_emoticons))\n",
        "print()\n",
        "print('df_replaced_emoticons')\n",
        "print(len(df_replaced_emoticons))\n",
        "df_replaced_emoticons.drop_duplicates(subset='Review Text', inplace=True)\n",
        "print(len(df_replaced_emoticons))\n",
        "print()\n",
        "print('df')\n",
        "print(len(df))\n",
        "df.drop_duplicates(subset='Review Text', inplace=True)\n",
        "print(len(df))"
      ],
      "metadata": {
        "id": "slZwkuX1hxMC",
        "colab": {
          "base_uri": "https://localhost:8080/"
        },
        "outputId": "a214687e-2e0c-4af8-aca6-dfadbfb9976a"
      },
      "execution_count": null,
      "outputs": [
        {
          "output_type": "stream",
          "name": "stdout",
          "text": [
            "df_removed_emoticons\n",
            "18113\n",
            "18113\n",
            "\n",
            "df_replaced_emoticons\n",
            "18113\n",
            "18113\n",
            "\n",
            "df\n",
            "18113\n",
            "18113\n"
          ]
        }
      ]
    },
    {
      "cell_type": "code",
      "source": [
        "df.to_csv('train_clean_with_emoticons.csv', index=False)\n",
        "df_removed_emoticons.to_csv('train_clean_removed_emoticons.csv', index=False)\n",
        "df_replaced_emoticons.to_csv('train_clean_replaced_emoticons.csv', index=False)"
      ],
      "metadata": {
        "id": "k7w5JJNfboW5"
      },
      "execution_count": null,
      "outputs": []
    }
  ]
}